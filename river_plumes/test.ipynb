{
 "cells": [
  {
   "cell_type": "code",
   "execution_count": null,
   "id": "0d8dbc31",
   "metadata": {},
   "outputs": [],
   "source": [
    "import xarray as xr\n",
    "import numpy as np\n",
    "from scipy.interpolate import interp1d\n",
    "\n",
    "# Load datasets\n",
    "geo_ds = xr.open_dataset(nc_files[0], group='geophysical_data')\n",
    "nav_ds = xr.open_dataset(nc_files[0], group='navigation_data')\n",
    "\n",
    "# Extract control point info\n",
    "lat_ctl = nav_ds['latitude'].data  # (number_of_lines, pixel_control_points)\n",
    "lon_ctl = nav_ds['longitude'].data\n",
    "rows = nav_ds['cntl_pt_rows'].data  # (number_of_lines,) usually just np.arange(n_lines)\n",
    "cols = nav_ds['cntl_pt_cols'].data  # (pixel_control_points,)\n",
    "\n",
    "n_lines, n_pixels = geo_ds.dims['number_of_lines'], geo_ds.dims['pixels_per_line']\n",
    "\n",
    "# Interpolate longitude and latitude across pixel dimension for each line\n",
    "lat_full = np.empty((n_lines, n_pixels), dtype=np.float32)\n",
    "lon_full = np.empty((n_lines, n_pixels), dtype=np.float32)\n",
    "\n",
    "for i in range(n_lines):\n",
    "    f_lat = interp1d(cols, lat_ctl[i, :], bounds_error=False, fill_value=\"extrapolate\")\n",
    "    f_lon = interp1d(cols, lon_ctl[i, :], bounds_error=False, fill_value=\"extrapolate\")\n",
    "    lat_full[i, :] = f_lat(np.arange(n_pixels))\n",
    "    lon_full[i, :] = f_lon(np.arange(n_pixels))\n",
    "\n",
    "# Assign to geo dataset\n",
    "geo_ds = geo_ds.assign_coords(\n",
    "    lat=(('number_of_lines', 'pixels_per_line'), lat_full),\n",
    "    lon=(('number_of_lines', 'pixels_per_line'), lon_full)\n",
    ")"
   ]
  }
 ],
 "metadata": {
  "kernelspec": {
   "display_name": "base",
   "language": "python",
   "name": "python3"
  },
  "language_info": {
   "name": "python",
   "version": "3.12.4"
  }
 },
 "nbformat": 4,
 "nbformat_minor": 5
}
