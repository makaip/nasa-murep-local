{
 "cells": [
  {
   "cell_type": "markdown",
   "id": "086f3d29",
   "metadata": {},
   "source": [
    "# Download and Organize Satellite Data\n",
    "\n",
    "This notebook downloads NASA MODISA Level 2 Ocean Color data, organizes the downloaded files by geographical regions and time periods, and cleans up the downloaded files."
   ]
  },
  {
   "cell_type": "markdown",
   "id": "d44de1d9",
   "metadata": {},
   "source": [
    "### Imports and Authentication\n",
    "\n",
    "Imports required libraries and authenticates with EarthAccess."
   ]
  },
  {
   "cell_type": "code",
   "execution_count": 1,
   "id": "57be25af",
   "metadata": {},
   "outputs": [],
   "source": [
    "import earthaccess\n",
    "from pathlib import Path\n",
    "import shutil\n",
    "\n",
    "# Authenticate with EarthAccess\n",
    "auth = earthaccess.login(persist=True)"
   ]
  },
  {
   "cell_type": "markdown",
   "id": "e9284ef6",
   "metadata": {},
   "source": [
    "### Setup: Directories, Regions, Time Periods, and Dataset\n",
    "\n",
    "Sets up the base directory, defines the regions and time periods of interest, and specifies the dataset to be downloaded."
   ]
  },
  {
   "cell_type": "code",
   "execution_count": 2,
   "id": "95032c94",
   "metadata": {},
   "outputs": [],
   "source": [
    "base_dir = Path(\"E:\\\\satdata\")\n",
    "base_dir.mkdir(parents=True, exist_ok=True)\n",
    "\n",
    "# Define regions\n",
    "regions = {\n",
    "    \"Mississippi\": {\"lon_min\": -91.5, \"lon_max\": -87.5, \"lat_min\": 28.0, \"lat_max\": 30.0},\n",
    "    \"Atchafalaya\": {\"lon_min\": -95.0, \"lon_max\": -91.5, \"lat_min\": 28.0, \"lat_max\": 30.0}\n",
    "}\n",
    "\n",
    "# Define time periods\n",
    "time_periods = [\n",
    "    (\"2021-06-21\", \"2021-07-21\"),\n",
    "    (\"2022-06-19\", \"2022-07-19\"),\n",
    "    (\"2022-03-18\", \"2022-04-16\")\n",
    "]\n",
    "\n",
    "# Dataset to use\n",
    "dataset_short_name = \"MODISA_L2_OC\""
   ]
  },
  {
   "cell_type": "markdown",
   "id": "bc6290a6",
   "metadata": {},
   "source": [
    "### Data Download and Organization\n",
    "\n",
    "Iterates over defined time periods and regions to search, download, and organize the data files accordingly."
   ]
  },
  {
   "cell_type": "code",
   "execution_count": 3,
   "id": "e61f0d59",
   "metadata": {},
   "outputs": [
    {
     "name": "stdout",
     "output_type": "stream",
     "text": [
      "\n",
      "🔎 Searching for Mississippi data from 2021-06-21 to 2021-07-21\n"
     ]
    },
    {
     "ename": "KeyError",
     "evalue": "'hits'",
     "output_type": "error",
     "traceback": [
      "\u001b[31m---------------------------------------------------------------------------\u001b[39m",
      "\u001b[31mKeyError\u001b[39m                                  Traceback (most recent call last)",
      "\u001b[36mCell\u001b[39m\u001b[36m \u001b[39m\u001b[32mIn[3]\u001b[39m\u001b[32m, line 5\u001b[39m\n\u001b[32m      2\u001b[39m \u001b[38;5;28;01mfor\u001b[39;00m region, coords \u001b[38;5;129;01min\u001b[39;00m regions.items():\n\u001b[32m      3\u001b[39m     \u001b[38;5;28mprint\u001b[39m(\u001b[33mf\u001b[39m\u001b[33m\"\u001b[39m\u001b[38;5;130;01m\\n\u001b[39;00m\u001b[33m🔎 Searching for \u001b[39m\u001b[38;5;132;01m{\u001b[39;00mregion\u001b[38;5;132;01m}\u001b[39;00m\u001b[33m data from \u001b[39m\u001b[38;5;132;01m{\u001b[39;00mtime_period[\u001b[32m0\u001b[39m]\u001b[38;5;132;01m}\u001b[39;00m\u001b[33m to \u001b[39m\u001b[38;5;132;01m{\u001b[39;00mtime_period[\u001b[32m1\u001b[39m]\u001b[38;5;132;01m}\u001b[39;00m\u001b[33m\"\u001b[39m)\n\u001b[32m----> \u001b[39m\u001b[32m5\u001b[39m     results = \u001b[43mearthaccess\u001b[49m\u001b[43m.\u001b[49m\u001b[43msearch_data\u001b[49m\u001b[43m(\u001b[49m\n\u001b[32m      6\u001b[39m \u001b[43m        \u001b[49m\u001b[43mshort_name\u001b[49m\u001b[43m=\u001b[49m\u001b[43mdataset_short_name\u001b[49m\u001b[43m,\u001b[49m\n\u001b[32m      7\u001b[39m \u001b[43m        \u001b[49m\u001b[43mcloud_hosted\u001b[49m\u001b[43m=\u001b[49m\u001b[38;5;28;43;01mFalse\u001b[39;49;00m\u001b[43m,\u001b[49m\n\u001b[32m      8\u001b[39m \u001b[43m        \u001b[49m\u001b[43mtemporal\u001b[49m\u001b[43m=\u001b[49m\u001b[43mtime_period\u001b[49m\u001b[43m,\u001b[49m\n\u001b[32m      9\u001b[39m \u001b[43m        \u001b[49m\u001b[43mbounding_box\u001b[49m\u001b[43m=\u001b[49m\u001b[43m(\u001b[49m\n\u001b[32m     10\u001b[39m \u001b[43m            \u001b[49m\u001b[43mcoords\u001b[49m\u001b[43m[\u001b[49m\u001b[33;43m\"\u001b[39;49m\u001b[33;43mlon_min\u001b[39;49m\u001b[33;43m\"\u001b[39;49m\u001b[43m]\u001b[49m\u001b[43m,\u001b[49m\n\u001b[32m     11\u001b[39m \u001b[43m            \u001b[49m\u001b[43mcoords\u001b[49m\u001b[43m[\u001b[49m\u001b[33;43m\"\u001b[39;49m\u001b[33;43mlat_min\u001b[39;49m\u001b[33;43m\"\u001b[39;49m\u001b[43m]\u001b[49m\u001b[43m,\u001b[49m\n\u001b[32m     12\u001b[39m \u001b[43m            \u001b[49m\u001b[43mcoords\u001b[49m\u001b[43m[\u001b[49m\u001b[33;43m\"\u001b[39;49m\u001b[33;43mlon_max\u001b[39;49m\u001b[33;43m\"\u001b[39;49m\u001b[43m]\u001b[49m\u001b[43m,\u001b[49m\n\u001b[32m     13\u001b[39m \u001b[43m            \u001b[49m\u001b[43mcoords\u001b[49m\u001b[43m[\u001b[49m\u001b[33;43m\"\u001b[39;49m\u001b[33;43mlat_max\u001b[39;49m\u001b[33;43m\"\u001b[39;49m\u001b[43m]\u001b[49m\n\u001b[32m     14\u001b[39m \u001b[43m        \u001b[49m\u001b[43m)\u001b[49m\n\u001b[32m     15\u001b[39m \u001b[43m    \u001b[49m\u001b[43m)\u001b[49m\n\u001b[32m     17\u001b[39m     \u001b[38;5;28;01mif\u001b[39;00m \u001b[38;5;129;01mnot\u001b[39;00m results:\n\u001b[32m     18\u001b[39m         \u001b[38;5;28mprint\u001b[39m(\u001b[33mf\u001b[39m\u001b[33m\"\u001b[39m\u001b[33mNo results for \u001b[39m\u001b[38;5;132;01m{\u001b[39;00mregion\u001b[38;5;132;01m}\u001b[39;00m\u001b[33m during \u001b[39m\u001b[38;5;132;01m{\u001b[39;00mtime_period[\u001b[32m0\u001b[39m]\u001b[38;5;132;01m}\u001b[39;00m\u001b[33m to \u001b[39m\u001b[38;5;132;01m{\u001b[39;00mtime_period[\u001b[32m1\u001b[39m]\u001b[38;5;132;01m}\u001b[39;00m\u001b[33m\"\u001b[39m)\n",
      "\u001b[36mFile \u001b[39m\u001b[32m~\\AppData\\Roaming\\Python\\Python312\\site-packages\\earthaccess\\api.py:135\u001b[39m, in \u001b[36msearch_data\u001b[39m\u001b[34m(count, **kwargs)\u001b[39m\n\u001b[32m     99\u001b[39m \u001b[38;5;250m\u001b[39m\u001b[33;03m\"\"\"Search dataset granules using NASA's CMR.\u001b[39;00m\n\u001b[32m    100\u001b[39m \n\u001b[32m    101\u001b[39m \u001b[33;03m[https://cmr.earthdata.nasa.gov/search/site/docs/search/api.html](https://cmr.earthdata.nasa.gov/search/site/docs/search/api.html)\u001b[39;00m\n\u001b[32m   (...)\u001b[39m\u001b[32m    132\u001b[39m \u001b[33;03m    ```\u001b[39;00m\n\u001b[32m    133\u001b[39m \u001b[33;03m\"\"\"\u001b[39;00m\n\u001b[32m    134\u001b[39m \u001b[38;5;28;01mif\u001b[39;00m earthaccess.__auth__.authenticated:\n\u001b[32m--> \u001b[39m\u001b[32m135\u001b[39m     query = \u001b[43mDataGranules\u001b[49m\u001b[43m(\u001b[49m\u001b[43mearthaccess\u001b[49m\u001b[43m.\u001b[49m\u001b[43m__auth__\u001b[49m\u001b[43m)\u001b[49m\u001b[43m.\u001b[49m\u001b[43mparameters\u001b[49m\u001b[43m(\u001b[49m\u001b[43m*\u001b[49m\u001b[43m*\u001b[49m\u001b[43mkwargs\u001b[49m\u001b[43m)\u001b[49m\n\u001b[32m    136\u001b[39m \u001b[38;5;28;01melse\u001b[39;00m:\n\u001b[32m    137\u001b[39m     query = DataGranules().parameters(**kwargs)\n",
      "\u001b[36mFile \u001b[39m\u001b[32m~\\AppData\\Roaming\\Python\\Python312\\site-packages\\earthaccess\\search.py:533\u001b[39m, in \u001b[36mDataGranules.parameters\u001b[39m\u001b[34m(self, **kwargs)\u001b[39m\n\u001b[32m    531\u001b[39m         methods[key](*val)\n\u001b[32m    532\u001b[39m     \u001b[38;5;28;01melse\u001b[39;00m:\n\u001b[32m--> \u001b[39m\u001b[32m533\u001b[39m         \u001b[43mmethods\u001b[49m\u001b[43m[\u001b[49m\u001b[43mkey\u001b[49m\u001b[43m]\u001b[49m\u001b[43m(\u001b[49m\u001b[43mval\u001b[49m\u001b[43m)\u001b[49m\n\u001b[32m    535\u001b[39m \u001b[38;5;28;01mreturn\u001b[39;00m \u001b[38;5;28mself\u001b[39m\n",
      "\u001b[36mFile \u001b[39m\u001b[32m~\\AppData\\Roaming\\Python\\Python312\\site-packages\\earthaccess\\search.py:624\u001b[39m, in \u001b[36mDataGranules.cloud_hosted\u001b[39m\u001b[34m(self, cloud_hosted)\u001b[39m\n\u001b[32m    621\u001b[39m     \u001b[38;5;28;01mraise\u001b[39;00m \u001b[38;5;167;01mTypeError\u001b[39;00m(\u001b[33m\"\u001b[39m\u001b[33mcloud_hosted must be of type bool\u001b[39m\u001b[33m\"\u001b[39m)\n\u001b[32m    623\u001b[39m \u001b[38;5;28;01mif\u001b[39;00m \u001b[33m\"\u001b[39m\u001b[33mshort_name\u001b[39m\u001b[33m\"\u001b[39m \u001b[38;5;129;01min\u001b[39;00m \u001b[38;5;28mself\u001b[39m.params:\n\u001b[32m--> \u001b[39m\u001b[32m624\u001b[39m     provider = \u001b[43mfind_provider_by_shortname\u001b[49m\u001b[43m(\u001b[49m\n\u001b[32m    625\u001b[39m \u001b[43m        \u001b[49m\u001b[38;5;28;43mself\u001b[39;49m\u001b[43m.\u001b[49m\u001b[43mparams\u001b[49m\u001b[43m[\u001b[49m\u001b[33;43m\"\u001b[39;49m\u001b[33;43mshort_name\u001b[39;49m\u001b[33;43m\"\u001b[39;49m\u001b[43m]\u001b[49m\u001b[43m,\u001b[49m\u001b[43m \u001b[49m\u001b[43mcloud_hosted\u001b[49m\n\u001b[32m    626\u001b[39m \u001b[43m    \u001b[49m\u001b[43m)\u001b[49m\n\u001b[32m    627\u001b[39m     \u001b[38;5;28;01mif\u001b[39;00m provider \u001b[38;5;129;01mis\u001b[39;00m \u001b[38;5;129;01mnot\u001b[39;00m \u001b[38;5;28;01mNone\u001b[39;00m:\n\u001b[32m    628\u001b[39m         \u001b[38;5;28mself\u001b[39m.params[\u001b[33m\"\u001b[39m\u001b[33mprovider\u001b[39m\u001b[33m\"\u001b[39m] = provider\n",
      "\u001b[36mFile \u001b[39m\u001b[32m~\\AppData\\Roaming\\Python\\Python312\\site-packages\\earthaccess\\daac.py:143\u001b[39m, in \u001b[36mfind_provider_by_shortname\u001b[39m\u001b[34m(short_name, cloud_hosted)\u001b[39m\n\u001b[32m    139\u001b[39m base_url = \u001b[33m\"\u001b[39m\u001b[33mhttps://cmr.earthdata.nasa.gov/search/collections.umm_json?\u001b[39m\u001b[33m\"\u001b[39m\n\u001b[32m    140\u001b[39m providers = requests.get(\n\u001b[32m    141\u001b[39m     \u001b[33mf\u001b[39m\u001b[33m\"\u001b[39m\u001b[38;5;132;01m{\u001b[39;00mbase_url\u001b[38;5;132;01m}\u001b[39;00m\u001b[33m&cloud_hosted=\u001b[39m\u001b[38;5;132;01m{\u001b[39;00mcloud_hosted\u001b[38;5;132;01m}\u001b[39;00m\u001b[33m&short_name=\u001b[39m\u001b[38;5;132;01m{\u001b[39;00mshort_name\u001b[38;5;132;01m}\u001b[39;00m\u001b[33m\"\u001b[39m\n\u001b[32m    142\u001b[39m ).json()\n\u001b[32m--> \u001b[39m\u001b[32m143\u001b[39m \u001b[38;5;28;01mif\u001b[39;00m \u001b[38;5;28mint\u001b[39m(\u001b[43mproviders\u001b[49m\u001b[43m[\u001b[49m\u001b[33;43m\"\u001b[39;49m\u001b[33;43mhits\u001b[39;49m\u001b[33;43m\"\u001b[39;49m\u001b[43m]\u001b[49m) > \u001b[32m0\u001b[39m:\n\u001b[32m    144\u001b[39m     \u001b[38;5;28;01mreturn\u001b[39;00m providers[\u001b[33m\"\u001b[39m\u001b[33mitems\u001b[39m\u001b[33m\"\u001b[39m][\u001b[32m0\u001b[39m][\u001b[33m\"\u001b[39m\u001b[33mmeta\u001b[39m\u001b[33m\"\u001b[39m][\u001b[33m\"\u001b[39m\u001b[33mprovider-id\u001b[39m\u001b[33m\"\u001b[39m]\n\u001b[32m    145\u001b[39m \u001b[38;5;28;01melse\u001b[39;00m:\n",
      "\u001b[31mKeyError\u001b[39m: 'hits'"
     ]
    }
   ],
   "source": [
    "for time_period in time_periods:\n",
    "    for region, coords in regions.items():\n",
    "        print(f\"\\n🔎 Searching for {region} data from {time_period[0]} to {time_period[1]}\")\n",
    "\n",
    "        results = earthaccess.search_data(\n",
    "            short_name=dataset_short_name,\n",
    "            cloud_hosted=False,\n",
    "            temporal=time_period,\n",
    "            bounding_box=(\n",
    "                coords[\"lon_min\"],\n",
    "                coords[\"lat_min\"],\n",
    "                coords[\"lon_max\"],\n",
    "                coords[\"lat_max\"]\n",
    "            )\n",
    "        )\n",
    "\n",
    "        if not results:\n",
    "            print(f\"No results for {region} during {time_period[0]} to {time_period[1]}\")\n",
    "            continue\n",
    "\n",
    "        # Download data to the default cache directory\n",
    "        downloaded_files = earthaccess.download(results)\n",
    "\n",
    "        # Create output directory and move downloaded files\n",
    "        out_dir = base_dir / f\"{region}_{time_period[0]}_{time_period[1]}\"\n",
    "        out_dir.mkdir(parents=True, exist_ok=True)\n",
    "\n",
    "        for file_path in downloaded_files:\n",
    "            src = Path(file_path)\n",
    "            dest = out_dir / src.name\n",
    "            shutil.move(str(src), str(dest))  # Move file from cache to output directory\n",
    "\n",
    "        print(f\"✅ Downloaded and organized {len(downloaded_files)} files into {out_dir}\")"
   ]
  }
 ],
 "metadata": {
  "kernelspec": {
   "display_name": "base",
   "language": "python",
   "name": "python3"
  },
  "language_info": {
   "codemirror_mode": {
    "name": "ipython",
    "version": 3
   },
   "file_extension": ".py",
   "mimetype": "text/x-python",
   "name": "python",
   "nbconvert_exporter": "python",
   "pygments_lexer": "ipython3",
   "version": "3.12.4"
  }
 },
 "nbformat": 4,
 "nbformat_minor": 5
}
