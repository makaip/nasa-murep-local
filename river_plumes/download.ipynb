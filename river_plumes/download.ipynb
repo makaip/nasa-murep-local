{
 "cells": [
  {
   "cell_type": "markdown",
   "id": "086f3d29",
   "metadata": {},
   "source": [
    "# Download and Organize Satellite Data\n",
    "\n",
    "This notebook downloads NASA MODISA Level 2 Ocean Color data, organizes the downloaded files by geographical regions and time periods, and cleans up the downloaded files."
   ]
  },
  {
   "cell_type": "markdown",
   "id": "d44de1d9",
   "metadata": {},
   "source": [
    "### Imports and Authentication\n",
    "\n",
    "Imports required libraries and authenticates with EarthAccess."
   ]
  },
  {
   "cell_type": "code",
   "execution_count": null,
   "id": "57be25af",
   "metadata": {},
   "outputs": [],
   "source": [
    "import earthaccess\n",
    "from pathlib import Path\n",
    "import shutil\n",
    "\n",
    "# Authenticate with EarthAccess\n",
    "auth = earthaccess.login(persist=True)"
   ]
  },
  {
   "cell_type": "markdown",
   "id": "e9284ef6",
   "metadata": {},
   "source": [
    "### Setup: Directories, Regions, Time Periods, and Dataset\n",
    "\n",
    "Sets up the base directory, defines the regions and time periods of interest, and specifies the dataset to be downloaded."
   ]
  },
  {
   "cell_type": "code",
   "execution_count": null,
   "id": "95032c94",
   "metadata": {},
   "outputs": [
    {
     "name": "stderr",
     "output_type": "stream",
     "text": [
      "<>:1: SyntaxWarning: invalid escape sequence '\\s'\n",
      "<>:1: SyntaxWarning: invalid escape sequence '\\s'\n",
      "C:\\Users\\Makai\\AppData\\Local\\Temp\\ipykernel_44724\\3331606365.py:1: SyntaxWarning: invalid escape sequence '\\s'\n",
      "  base_dir = Path(\"E:\\satdata\")\n"
     ]
    }
   ],
   "source": [
    "base_dir = Path(\"E:\\\\satdata\")\n",
    "base_dir.mkdir(parents=True, exist_ok=True)\n",
    "\n",
    "# Define regions\n",
    "regions = {\n",
    "    \"Mississippi\": {\"lon_min\": -91.5, \"lon_max\": -87.5, \"lat_min\": 28.0, \"lat_max\": 30.0},\n",
    "    \"Atchafalaya\": {\"lon_min\": -95.0, \"lon_max\": -91.5, \"lat_min\": 28.0, \"lat_max\": 30.0}\n",
    "}\n",
    "\n",
    "# Define time periods\n",
    "time_periods = [\n",
    "    (\"2021-06-21\", \"2021-07-21\"),\n",
    "    (\"2022-06-19\", \"2022-07-19\"),\n",
    "    (\"2022-03-18\", \"2022-04-16\")\n",
    "]\n",
    "\n",
    "# Dataset to use\n",
    "dataset_short_name = \"MODISA_L2_OC\""
   ]
  },
  {
   "cell_type": "markdown",
   "id": "bc6290a6",
   "metadata": {},
   "source": [
    "### Data Download and Organization\n",
    "\n",
    "Iterates over defined time periods and regions to search, download, and organize the data files accordingly."
   ]
  },
  {
   "cell_type": "code",
   "execution_count": null,
   "id": "e61f0d59",
   "metadata": {},
   "outputs": [
    {
     "name": "stdout",
     "output_type": "stream",
     "text": [
      "\n",
      "🔎 Searching for Mississippi data from 2021-06-21 to 2021-07-21\n"
     ]
    },
    {
     "data": {
      "application/vnd.jupyter.widget-view+json": {
       "model_id": "32961720cd27400eb989d753eb6798a0",
       "version_major": 2,
       "version_minor": 0
      },
      "text/plain": [
       "QUEUEING TASKS | :   0%|          | 0/41 [00:00<?, ?it/s]"
      ]
     },
     "metadata": {},
     "output_type": "display_data"
    },
    {
     "data": {
      "application/vnd.jupyter.widget-view+json": {
       "model_id": "3b5168d61a424da9b7688e263b7c3d46",
       "version_major": 2,
       "version_minor": 0
      },
      "text/plain": [
       "PROCESSING TASKS | :   0%|          | 0/41 [00:00<?, ?it/s]"
      ]
     },
     "metadata": {},
     "output_type": "display_data"
    },
    {
     "data": {
      "application/vnd.jupyter.widget-view+json": {
       "model_id": "b29aaf329e6a469fa8159131dbb8f4b8",
       "version_major": 2,
       "version_minor": 0
      },
      "text/plain": [
       "COLLECTING RESULTS | :   0%|          | 0/41 [00:00<?, ?it/s]"
      ]
     },
     "metadata": {},
     "output_type": "display_data"
    },
    {
     "name": "stdout",
     "output_type": "stream",
     "text": [
      "✅ Downloaded and organized 41 files into E:\\satdata\\Mississippi_2021-06-21_2021-07-21\n",
      "\n",
      "🔎 Searching for Atchafalaya data from 2021-06-21 to 2021-07-21\n"
     ]
    },
    {
     "data": {
      "application/vnd.jupyter.widget-view+json": {
       "model_id": "2e9ad53dd8c94d26ba61da7573c9e9fd",
       "version_major": 2,
       "version_minor": 0
      },
      "text/plain": [
       "QUEUEING TASKS | :   0%|          | 0/38 [00:00<?, ?it/s]"
      ]
     },
     "metadata": {},
     "output_type": "display_data"
    },
    {
     "data": {
      "application/vnd.jupyter.widget-view+json": {
       "model_id": "93232251e864402fa1f738bcfcaf7ae8",
       "version_major": 2,
       "version_minor": 0
      },
      "text/plain": [
       "PROCESSING TASKS | :   0%|          | 0/38 [00:00<?, ?it/s]"
      ]
     },
     "metadata": {},
     "output_type": "display_data"
    },
    {
     "data": {
      "application/vnd.jupyter.widget-view+json": {
       "model_id": "b6dddaa5f4144938b8b04b99775eee7a",
       "version_major": 2,
       "version_minor": 0
      },
      "text/plain": [
       "COLLECTING RESULTS | :   0%|          | 0/38 [00:00<?, ?it/s]"
      ]
     },
     "metadata": {},
     "output_type": "display_data"
    },
    {
     "name": "stdout",
     "output_type": "stream",
     "text": [
      "✅ Downloaded and organized 38 files into E:\\satdata\\Atchafalaya_2021-06-21_2021-07-21\n",
      "\n",
      "🔎 Searching for Mississippi data from 2022-06-19 to 2022-07-19\n"
     ]
    },
    {
     "data": {
      "application/vnd.jupyter.widget-view+json": {
       "model_id": "90e8398f8ab1442a93dd476e864f601d",
       "version_major": 2,
       "version_minor": 0
      },
      "text/plain": [
       "QUEUEING TASKS | :   0%|          | 0/46 [00:00<?, ?it/s]"
      ]
     },
     "metadata": {},
     "output_type": "display_data"
    },
    {
     "data": {
      "application/vnd.jupyter.widget-view+json": {
       "model_id": "28a06d8d6db34786abb23d07c993c5d7",
       "version_major": 2,
       "version_minor": 0
      },
      "text/plain": [
       "PROCESSING TASKS | :   0%|          | 0/46 [00:00<?, ?it/s]"
      ]
     },
     "metadata": {},
     "output_type": "display_data"
    },
    {
     "data": {
      "application/vnd.jupyter.widget-view+json": {
       "model_id": "d72c0e73f071401c820e8e9acfc20798",
       "version_major": 2,
       "version_minor": 0
      },
      "text/plain": [
       "COLLECTING RESULTS | :   0%|          | 0/46 [00:00<?, ?it/s]"
      ]
     },
     "metadata": {},
     "output_type": "display_data"
    },
    {
     "name": "stdout",
     "output_type": "stream",
     "text": [
      "✅ Downloaded and organized 46 files into E:\\satdata\\Mississippi_2022-06-19_2022-07-19\n",
      "\n",
      "🔎 Searching for Atchafalaya data from 2022-06-19 to 2022-07-19\n"
     ]
    },
    {
     "data": {
      "application/vnd.jupyter.widget-view+json": {
       "model_id": "a5111daad34c4280b13034e8e6da5aff",
       "version_major": 2,
       "version_minor": 0
      },
      "text/plain": [
       "QUEUEING TASKS | :   0%|          | 0/46 [00:00<?, ?it/s]"
      ]
     },
     "metadata": {},
     "output_type": "display_data"
    },
    {
     "data": {
      "application/vnd.jupyter.widget-view+json": {
       "model_id": "afe5f0e039ca4851b4265739c9390fd5",
       "version_major": 2,
       "version_minor": 0
      },
      "text/plain": [
       "PROCESSING TASKS | :   0%|          | 0/46 [00:00<?, ?it/s]"
      ]
     },
     "metadata": {},
     "output_type": "display_data"
    },
    {
     "data": {
      "application/vnd.jupyter.widget-view+json": {
       "model_id": "2cab47d8d7e9428faa59d145e4fce023",
       "version_major": 2,
       "version_minor": 0
      },
      "text/plain": [
       "COLLECTING RESULTS | :   0%|          | 0/46 [00:00<?, ?it/s]"
      ]
     },
     "metadata": {},
     "output_type": "display_data"
    },
    {
     "name": "stdout",
     "output_type": "stream",
     "text": [
      "✅ Downloaded and organized 46 files into E:\\satdata\\Atchafalaya_2022-06-19_2022-07-19\n",
      "\n",
      "🔎 Searching for Mississippi data from 2022-03-18 to 2022-04-16\n"
     ]
    },
    {
     "data": {
      "application/vnd.jupyter.widget-view+json": {
       "model_id": "d8c492d4909042d393bc294d1e374973",
       "version_major": 2,
       "version_minor": 0
      },
      "text/plain": [
       "QUEUEING TASKS | :   0%|          | 0/17 [00:00<?, ?it/s]"
      ]
     },
     "metadata": {},
     "output_type": "display_data"
    },
    {
     "data": {
      "application/vnd.jupyter.widget-view+json": {
       "model_id": "ab94efc2a9b84db7ac53d1c4bb9db3b9",
       "version_major": 2,
       "version_minor": 0
      },
      "text/plain": [
       "PROCESSING TASKS | :   0%|          | 0/17 [00:00<?, ?it/s]"
      ]
     },
     "metadata": {},
     "output_type": "display_data"
    },
    {
     "data": {
      "application/vnd.jupyter.widget-view+json": {
       "model_id": "8cbb5b8cf3bb4f0baeb356a5e2430d7f",
       "version_major": 2,
       "version_minor": 0
      },
      "text/plain": [
       "COLLECTING RESULTS | :   0%|          | 0/17 [00:00<?, ?it/s]"
      ]
     },
     "metadata": {},
     "output_type": "display_data"
    },
    {
     "name": "stdout",
     "output_type": "stream",
     "text": [
      "✅ Downloaded and organized 17 files into E:\\satdata\\Mississippi_2022-03-18_2022-04-16\n",
      "\n",
      "🔎 Searching for Atchafalaya data from 2022-03-18 to 2022-04-16\n"
     ]
    },
    {
     "data": {
      "application/vnd.jupyter.widget-view+json": {
       "model_id": "674e6a732539471ea6dcce2d761d5655",
       "version_major": 2,
       "version_minor": 0
      },
      "text/plain": [
       "QUEUEING TASKS | :   0%|          | 0/16 [00:00<?, ?it/s]"
      ]
     },
     "metadata": {},
     "output_type": "display_data"
    },
    {
     "data": {
      "application/vnd.jupyter.widget-view+json": {
       "model_id": "7af15f5e07d547039573f629085f740b",
       "version_major": 2,
       "version_minor": 0
      },
      "text/plain": [
       "PROCESSING TASKS | :   0%|          | 0/16 [00:00<?, ?it/s]"
      ]
     },
     "metadata": {},
     "output_type": "display_data"
    },
    {
     "data": {
      "application/vnd.jupyter.widget-view+json": {
       "model_id": "bb5ba8a553c5408abed15e796cb4f04f",
       "version_major": 2,
       "version_minor": 0
      },
      "text/plain": [
       "COLLECTING RESULTS | :   0%|          | 0/16 [00:00<?, ?it/s]"
      ]
     },
     "metadata": {},
     "output_type": "display_data"
    },
    {
     "name": "stdout",
     "output_type": "stream",
     "text": [
      "✅ Downloaded and organized 16 files into E:\\satdata\\Atchafalaya_2022-03-18_2022-04-16\n"
     ]
    }
   ],
   "source": [
    "for time_period in time_periods:\n",
    "    for region, coords in regions.items():\n",
    "        print(f\"\\n🔎 Searching for {region} data from {time_period[0]} to {time_period[1]}\")\n",
    "\n",
    "        results = earthaccess.search_data(\n",
    "            short_name=dataset_short_name,\n",
    "            cloud_hosted=False,\n",
    "            temporal=time_period,\n",
    "            bounding_box=(\n",
    "                coords[\"lon_min\"],\n",
    "                coords[\"lat_min\"],\n",
    "                coords[\"lon_max\"],\n",
    "                coords[\"lat_max\"]\n",
    "            )\n",
    "        )\n",
    "\n",
    "        if not results:\n",
    "            print(f\"No results for {region} during {time_period[0]} to {time_period[1]}\")\n",
    "            continue\n",
    "\n",
    "        # Download data to the default cache directory\n",
    "        downloaded_files = earthaccess.download(results)\n",
    "\n",
    "        # Create output directory and move downloaded files\n",
    "        out_dir = base_dir / f\"{region}_{time_period[0]}_{time_period[1]}\"\n",
    "        out_dir.mkdir(parents=True, exist_ok=True)\n",
    "\n",
    "        for file_path in downloaded_files:\n",
    "            src = Path(file_path)\n",
    "            dest = out_dir / src.name\n",
    "            shutil.move(str(src), str(dest))  # Move file from cache to output directory\n",
    "\n",
    "        print(f\"✅ Downloaded and organized {len(downloaded_files)} files into {out_dir}\")"
   ]
  }
 ],
 "metadata": {
  "kernelspec": {
   "display_name": "base",
   "language": "python",
   "name": "python3"
  },
  "language_info": {
   "codemirror_mode": {
    "name": "ipython",
    "version": 3
   },
   "file_extension": ".py",
   "mimetype": "text/x-python",
   "name": "python",
   "nbconvert_exporter": "python",
   "pygments_lexer": "ipython3",
   "version": "3.12.4"
  }
 },
 "nbformat": 4,
 "nbformat_minor": 5
}
