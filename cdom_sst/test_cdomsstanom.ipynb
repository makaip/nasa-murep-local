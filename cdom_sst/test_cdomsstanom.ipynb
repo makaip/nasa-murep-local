{
 "cells": [
  {
   "cell_type": "markdown",
   "id": "77cca0d9",
   "metadata": {},
   "source": [
    "# Combined CDOM and SST Anomaly Analysis\n",
    "\n",
    "This notebook demonstrates an end-to-end pipeline for processing satellite L2 RRS data to derive CDOM (Colored Dissolved Organic Matter) and MUR L4 data for SST (Sea Surface Temperature) Anomaly. It then indexes CDOM data to a 0-1 range (mapping 0.2→0, 1.0→1) and SST Anomaly to a -1 to 1 range, multiplies them, and visualizes the result.\n",
    "\n",
    "**Pipeline Steps:**\n",
    "\n",
    "1.  **Import libraries** and set up the environment.\n",
    "2.  **Define constants and parameters** for CDOM calculation, SST Anomaly processing, shared geographical bounding box, and binning.\n",
    "3.  **CDOM Processing:**\n",
    "    *   Search for and load L2 RRS NetCDF files.\n",
    "    *   Extract RRS data (GPU accelerated).\n",
    "    *   Calculate CDOM.\n",
    "    *   Clip, bin, and interpolate CDOM data.\n",
    "4.  **SST Anomaly Processing:**\n",
    "    *   Search for and load MUR L4 SST Anomaly NetCDF files.\n",
    "    *   Extract SST Anomaly data (GPU accelerated).\n",
    "    *   Clip, bin, and interpolate SST Anomaly data to the same grid as CDOM.\n",
    "5.  **Combined Analysis:**\n",
    "    *   Index CDOM data: map [0.2, 1.0] to [0, 1] with clamping\n",
    "    *   Normalize SST Anomaly data to [-1, 1] range\n",
    "    *   Multiply the indexed CDOM and normalized SST Anomaly data\n",
    "    *   Visualize the combined product"
   ]
  },
  {
   "cell_type": "markdown",
   "id": "4506e6bf",
   "metadata": {},
   "source": [
    "### Library Imports\n",
    "\n",
    "Import essential libraries for file handling, numerical operations, plotting, and custom processing for both L2 and L3 data."
   ]
  },
  {
   "cell_type": "code",
   "execution_count": null,
   "id": "c0bcb7d3",
   "metadata": {},
   "outputs": [],
   "source": [
    "# Import essential libraries\n",
    "import glob\n",
    "import os\n",
    "import numpy as np\n",
    "import matplotlib.pyplot as plt\n",
    "import cartopy.crs as ccrs\n",
    "import cartopy.feature as cfeature\n",
    "from scipy.stats import binned_statistic_2d\n",
    "import xarray as xr # For inspecting NetCDF variables\n",
    "import matplotlib.colors\n",
    "import cmocean # For specialized oceanographic colormaps\n",
    "\n",
    "import sys\n",
    "sys.dont_write_bytecode = True\n",
    "\n",
    "# Import custom pipeline components\n",
    "import importlib\n",
    "import l2_pipeline # For L2 RRS data\n",
    "importlib.reload(l2_pipeline)\n",
    "from l2_pipeline import L2DatasetLoader, GPUDataExtractor as GPUDataExtractorL2, SelectiveInterpolator as SelectiveInterpolatorL2\n",
    "\n",
    "import l3_pipeline # For L3 SST Anomaly data\n",
    "importlib.reload(l3_pipeline)\n",
    "from l3_pipeline import L3DatasetLoader, GPUDataExtractor as GPUDataExtractorL3, SelectiveInterpolator as SelectiveInterpolatorL3\n",
    "\n",
    "# Suppress RuntimeWarnings that can occur with NaNs in calculations\n",
    "import warnings\n",
    "warnings.filterwarnings('ignore', category=RuntimeWarning)\n",
    "warnings.filterwarnings('ignore', category=UserWarning, module='matplotlib') # Ignore Matplotlib UserWarnings for set_bad"
   ]
  },
  {
   "cell_type": "markdown",
   "id": "33334172",
   "metadata": {},
   "source": [
    "### Define Constants and Parameters\n",
    "\n",
    "Define constants for CDOM calculation, SST Anomaly processing, geographical area, binning, and data paths."
   ]
  },
  {
   "cell_type": "code",
   "execution_count": null,
   "id": "e652406e",
   "metadata": {},
   "outputs": [],
   "source": [
    "# --- Shared Geographical and Binning Parameters ---\n",
    "lon_min, lon_max = -95.0, -88.0\n",
    "lat_min, lat_max = 27.5, 30.5\n",
    "\n",
    "lat_bins = 200 # Number of latitude bins (height)\n",
    "lon_bins = 300 # Number of longitude bins (width)\n",
    "\n",
    "# --- CDOM Calculation Constants ---\n",
    "B0 = 0.2487\n",
    "B1 = 14.028\n",
    "B2 = 4.085\n",
    "\n",
    "# --- L2 RRS Data Configuration (for CDOM) ---\n",
    "data_dir_l2_rrs = r\"E:\\satdata\\Texas Louisiana Shelf_2024-06-01_2024-06-30\"\n",
    "rrs_vars_list = ['Rrs_412', 'Rrs_555']\n",
    "rrs_data_group = 'geophysical_data'\n",
    "interpolation_threshold_cdom = 32\n",
    "\n",
    "# --- MUR L4 SST Anomaly Data Configuration ---\n",
    "data_dir_sst_anom = r\"E:\\satdata\\MUR-JPL-L4-GLOB-v4.1_Texas Louisiana Shelf_2024-06-01_2024-06-30\"\n",
    "sst_anom_variable_to_plot = 'sst_anomaly'\n",
    "sst_anom_variables_to_load = [sst_anom_variable_to_plot]\n",
    "min_ssta_threshold = -10.0 # SSTA threshold\n",
    "max_ssta_threshold = 10.0\n",
    "interpolation_threshold_sst_anom = 32\n",
    "\n",
    "print(f\"Region: Lon ({lon_min}, {lon_max}), Lat ({lat_min}, {lat_max})\")\n",
    "print(f\"Grid: {lat_bins} lat bins, {lon_bins} lon bins\")"
   ]
  },
  {
   "cell_type": "markdown",
   "id": "e4d46e94",
   "metadata": {},
   "source": [
    "## CDOM Data Processing"
   ]
  },
  {
   "cell_type": "markdown",
   "id": "8135c3e9",
   "metadata": {},
   "source": [
    "### Searching for L2 RRS Data Files (CDOM)"
   ]
  },
  {
   "cell_type": "code",
   "execution_count": null,
   "id": "d09f8b6c",
   "metadata": {},
   "outputs": [],
   "source": [
    "nc_files_rrs = glob.glob(os.path.join(data_dir_l2_rrs, '**', '*.nc'), recursive=True)\n",
    "if not nc_files_rrs:\n",
    "    print(f\"Warning: No .nc files found for L2 RRS in {data_dir_l2_rrs}.\")\n",
    "else:\n",
    "    print(f\"Found {len(nc_files_rrs)} L2 RRS files for CDOM processing.\")"
   ]
  },
  {
   "cell_type": "markdown",
   "id": "e070573f",
   "metadata": {},
   "source": [
    "### Loading and Extracting L2 RRS Data (CDOM)"
   ]
  },
  {
   "cell_type": "code",
   "execution_count": null,
   "id": "2223f77c",
   "metadata": {},
   "outputs": [],
   "source": [
    "lon_rrs_flat, lat_rrs_flat, rrs_vars_data_flat = np.array([]), np.array([]), {var: np.array([]) for var in rrs_vars_list}\n",
    "\n",
    "if nc_files_rrs:\n",
    "    try:\n",
    "        loader_rrs = L2DatasetLoader(variables=rrs_vars_list, group=rrs_data_group)\n",
    "        datasets_rrs = loader_rrs.load_multiple(nc_files_rrs)\n",
    "        print(f\"Successfully loaded {len(datasets_rrs)} L2 RRS datasets for CDOM.\")\n",
    "        \n",
    "        extractor_rrs = GPUDataExtractorL2(variables=rrs_vars_list)\n",
    "        lon_rrs_flat, lat_rrs_flat, rrs_vars_data_flat = extractor_rrs.extract(datasets_rrs)\n",
    "        print(f\"L2 RRS data extraction for CDOM complete. Extracted {len(lon_rrs_flat)} data points.\")\n",
    "    except Exception as e:\n",
    "        print(f\"Error during L2 RRS data loading/extraction: {e}\")\n",
    "else:\n",
    "    print(\"No L2 RRS files found to process for CDOM.\")"
   ]
  },
  {
   "cell_type": "markdown",
   "id": "b5d63b71",
   "metadata": {},
   "source": [
    "### CDOM Calculation, Clipping, Binning, and Interpolation"
   ]
  },
  {
   "cell_type": "code",
   "execution_count": null,
   "id": "bfc56a4c",
   "metadata": {},
   "outputs": [],
   "source": [
    "binned_cdom_interpolated = np.full((lat_bins, lon_bins), np.nan)\n",
    "lat_edges_grid, lon_edges_grid = None, None\n",
    "\n",
    "if lon_rrs_flat.size > 0 and rrs_vars_data_flat:\n",
    "    Rss412 = rrs_vars_data_flat.get(rrs_vars_list[0], np.array([]))\n",
    "    Rss555 = rrs_vars_data_flat.get(rrs_vars_list[1], np.array([]))\n",
    "    \n",
    "    if Rss412.size > 0 and Rss555.size > 0:\n",
    "        term_ratio = Rss412 / Rss555\n",
    "        term_numerator = term_ratio - B0\n",
    "        term_division = term_numerator / B2\n",
    "        valid_log_mask = term_division > 0\n",
    "        \n",
    "        cdom_values = np.full_like(term_division, np.nan)\n",
    "        if np.any(valid_log_mask):\n",
    "            cdom_values[valid_log_mask] = (np.log(term_division[valid_log_mask])) / (-B1)\n",
    "        \n",
    "        valid_mask = ~np.isnan(lon_rrs_flat) & ~np.isnan(lat_rrs_flat) & ~np.isnan(cdom_values)\n",
    "        final_lon_cdom = lon_rrs_flat[valid_mask]\n",
    "        final_lat_cdom = lat_rrs_flat[valid_mask]\n",
    "        final_cdom_raw = cdom_values[valid_mask]\n",
    "\n",
    "        clip_mask_cdom = (\n",
    "            (final_lon_cdom >= lon_min) & (final_lon_cdom <= lon_max) &\n",
    "            (final_lat_cdom >= lat_min) & (final_lat_cdom <= lat_max)\n",
    "        )\n",
    "        clipped_lon_cdom = final_lon_cdom[clip_mask_cdom]\n",
    "        clipped_lat_cdom = final_lat_cdom[clip_mask_cdom]\n",
    "        clipped_cdom_raw = final_cdom_raw[clip_mask_cdom]\n",
    "        print(f\"Clipped CDOM data. {len(clipped_lon_cdom)} points remaining.\")\n",
    "\n",
    "        if clipped_lon_cdom.size > 0:\n",
    "            binned_cdom_raw_stat, lat_edges_grid, lon_edges_grid, _ = binned_statistic_2d(\n",
    "                clipped_lat_cdom, clipped_lon_cdom, clipped_cdom_raw,\n",
    "                statistic='mean', bins=[lat_bins, lon_bins], \n",
    "                range=[[lat_min, lat_max], [lon_min, lon_max]]\n",
    "            )\n",
    "            binned_cdom_interpolated = SelectiveInterpolatorL2.interpolate(\n",
    "                binned_cdom_raw_stat, lat_edges_grid, lon_edges_grid, threshold=interpolation_threshold_cdom\n",
    "            )\n",
    "            print(\"CDOM processing complete.\")\n",
    "        else:\n",
    "            print(\"No CDOM data in bounding box.\")\n",
    "    else:\n",
    "        print(\"Skipping CDOM calculation: Rrs data not available or empty.\")\n",
    "else:\n",
    "    print(\"Skipping CDOM processing: No L2 RRS data extracted.\")\n",
    "\n",
    "if lat_edges_grid is None or lon_edges_grid is None:\n",
    "    lat_edges_grid = np.linspace(lat_min, lat_max, lat_bins + 1)\n",
    "    lon_edges_grid = np.linspace(lon_min, lon_max, lon_bins + 1)\n",
    "    print(\"Warning: CDOM grid created from linspace as no data was available.\")"
   ]
  },
  {
   "cell_type": "markdown",
   "id": "5bf0da57",
   "metadata": {},
   "source": [
    "## SST Anomaly Data Processing"
   ]
  },
  {
   "cell_type": "markdown",
   "id": "5e131463",
   "metadata": {},
   "source": [
    "### Searching for MUR L4 Data Files (SST Anomaly)"
   ]
  },
  {
   "cell_type": "code",
   "execution_count": null,
   "id": "330c8883",
   "metadata": {},
   "outputs": [],
   "source": [
    "nc_files_sst_anom = glob.glob(os.path.join(data_dir_sst_anom, '**', '*.nc'), recursive=True)\n",
    "if not nc_files_sst_anom:\n",
    "    print(f\"Warning: No .nc files found for SST Anomaly in {data_dir_sst_anom}.\")\n",
    "else:\n",
    "    print(f\"Found {len(nc_files_sst_anom)} SST Anomaly files.\")"
   ]
  },
  {
   "cell_type": "markdown",
   "id": "8f2dd2f3",
   "metadata": {},
   "source": [
    "### Loading and Extracting MUR L4 Data (SST Anomaly)"
   ]
  },
  {
   "cell_type": "code",
   "execution_count": null,
   "id": "3d1fbe4e",
   "metadata": {},
   "outputs": [],
   "source": [
    "lon_ssta_flat, lat_ssta_flat, ssta_vars_data_flat = np.array([]), np.array([]), {var: np.array([]) for var in sst_anom_variables_to_load}\n",
    "\n",
    "if nc_files_sst_anom:\n",
    "    try:\n",
    "        bbox = (lon_min, lon_max, lat_min, lat_max)\n",
    "        loader_ssta = L3DatasetLoader(variables=sst_anom_variables_to_load, bbox=bbox)\n",
    "        datasets_ssta = loader_ssta.load_multiple(nc_files_sst_anom)\n",
    "        print(f\"Successfully loaded {len(datasets_ssta)} SST Anomaly datasets.\")\n",
    "        \n",
    "        extractor_ssta = GPUDataExtractorL3(variables=sst_anom_variables_to_load)\n",
    "        lon_ssta_flat, lat_ssta_flat, ssta_vars_data_flat = extractor_ssta.extract(datasets_ssta)\n",
    "        print(f\"SST Anomaly data extraction complete. Extracted {len(lon_ssta_flat)} data points.\")\n",
    "    except Exception as e:\n",
    "        print(f\"Error during SST Anomaly data loading/extraction: {e}\")\n",
    "else:\n",
    "    print(\"No SST Anomaly files found to process.\")"
   ]
  },
  {
   "cell_type": "markdown",
   "id": "b8e021fa",
   "metadata": {},
   "source": [
    "### Clipping, Binning, and Interpolating SST Anomaly Data"
   ]
  },
  {
   "cell_type": "code",
   "execution_count": null,
   "id": "06d6ef14",
   "metadata": {},
   "outputs": [],
   "source": [
    "binned_sst_anom_interpolated = np.full((lat_bins, lon_bins), np.nan)\n",
    "\n",
    "if lon_ssta_flat.size > 0 and sst_anom_variable_to_plot in ssta_vars_data_flat:\n",
    "    all_ssta = ssta_vars_data_flat[sst_anom_variable_to_plot]\n",
    "    \n",
    "    all_ssta[(all_ssta < min_ssta_threshold) | (all_ssta > max_ssta_threshold)] = np.nan\n",
    "    print(f\"SSTA thresholded outside ({min_ssta_threshold}, {max_ssta_threshold})°C.\")\n",
    "\n",
    "    valid_mask_ssta = ~np.isnan(lon_ssta_flat) & ~np.isnan(lat_ssta_flat) & ~np.isnan(all_ssta)\n",
    "    final_lon_ssta = lon_ssta_flat[valid_mask_ssta]\n",
    "    final_lat_ssta = lat_ssta_flat[valid_mask_ssta]\n",
    "    final_ssta_processed = all_ssta[valid_mask_ssta]\n",
    "\n",
    "    # Data is already clipped by L3 loader, but we can bin directly\n",
    "    if final_lon_ssta.size > 0:\n",
    "        binned_ssta_raw_stat, _, _, _ = binned_statistic_2d(\n",
    "            final_lat_ssta, final_lon_ssta, final_ssta_processed,\n",
    "            statistic='mean', bins=[lat_edges_grid, lon_edges_grid]\n",
    "        )\n",
    "        \n",
    "        binned_sst_anom_interpolated = SelectiveInterpolatorL3.interpolate(\n",
    "            binned_ssta_raw_stat, lat_edges_grid, lon_edges_grid, threshold=interpolation_threshold_sst_anom\n",
    "        )\n",
    "        print(\"SST Anomaly processing complete.\")\n",
    "    else:\n",
    "        print(\"No valid SST Anomaly data points to bin.\")\n",
    "else:\n",
    "    print(\"No valid SST Anomaly data to process.\")"
   ]
  },
  {
   "cell_type": "markdown",
   "id": "d94b271f",
   "metadata": {},
   "source": [
    "## Combined CDOM-SST Anomaly Analysis and Plotting"
   ]
  },
  {
   "cell_type": "code",
   "execution_count": null,
   "id": "15bc2a1a",
   "metadata": {},
   "outputs": [],
   "source": [
    "# --- Helper functions for normalization ---\n",
    "def normalize_cdom_custom(data_array, cdom_min=0.02, cdom_max=0.35):\n",
    "    \"\"\"Normalizes CDOM data: maps [cdom_min, cdom_max] to [0, 1] and clamps values outside this range.\"\"\"\n",
    "    # Clamp the data to the specified range [cdom_min, cdom_max]\n",
    "    clamped_data = np.clip(data_array, cdom_min, cdom_max)\n",
    "    # Normalize the clamped data to the range [0, 1]\n",
    "    normalized_array = (clamped_data - cdom_min) / (cdom_max - cdom_min)\n",
    "    # Preserve original NaNs\n",
    "    normalized_array[np.isnan(data_array)] = np.nan\n",
    "    return normalized_array\n",
    "\n",
    "def normalize_data_range(data_array, p_low=5, p_high=95, target_min=-1, target_max=1):\n",
    "    \"\"\"Normalizes a 2D numpy array to [target_min, target_max] using percentiles.\"\"\"\n",
    "    original_nans = np.isnan(data_array)\n",
    "    valid_values = data_array[~original_nans]\n",
    "    if valid_values.size == 0: return np.full_like(data_array, np.nan)\n",
    "\n",
    "    min_val = np.percentile(valid_values, p_low)\n",
    "    max_val = np.percentile(valid_values, p_high)\n",
    "    if min_val >= max_val: min_val, max_val = np.nanmin(valid_values), np.nanmax(valid_values)\n",
    "    if np.isclose(min_val, max_val): return np.full_like(data_array, (target_min + target_max) / 2.0)\n",
    "    \n",
    "    normalized_01 = (data_array - min_val) / (max_val - min_val)\n",
    "    normalized_array = normalized_01 * (target_max - target_min) + target_min\n",
    "    normalized_array = np.clip(normalized_array, target_min, target_max)\n",
    "    normalized_array[original_nans] = np.nan\n",
    "    return normalized_array\n",
    "\n",
    "# --- Normalization and Combination ---\n",
    "# Normalize CDOM using the custom function (0.02->0, 0.35->1)\n",
    "cdom_normalized = normalize_cdom_custom(binned_cdom_interpolated, cdom_min=0.02, cdom_max=0.35)\n",
    "print(f\"Normalized CDOM (custom): {np.nanmin(cdom_normalized):.4f} to {np.nanmax(cdom_normalized):.4f}\")\n",
    "\n",
    "# Normalize SST Anomaly to -1 to 1 range\n",
    "sst_anom_normalized = normalize_data_range(binned_sst_anom_interpolated, target_min=-1, target_max=1)\n",
    "print(f\"Normalized SST Anomaly (-1 to 1): {np.nanmin(sst_anom_normalized):.4f} to {np.nanmax(sst_anom_normalized):.4f}\")\n",
    "\n",
    "# Multiply the two normalized maps\n",
    "combined_product = cdom_normalized * sst_anom_normalized\n",
    "print(f\"Combined product range: {np.nanmin(combined_product):.4f} to {np.nanmax(combined_product):.4f}\")"
   ]
  },
  {
   "cell_type": "markdown",
   "id": "a905ef23",
   "metadata": {},
   "source": [
    "### (Optional) Plotting Raw CDOM and SST Anomaly for Comparison"
   ]
  },
  {
   "cell_type": "code",
   "execution_count": null,
   "id": "d9cf15bb",
   "metadata": {},
   "outputs": [],
   "source": [
    "# Plot raw CDOM and SST Anomaly side by side for comparison\n",
    "fig, (ax1, ax2) = plt.subplots(1, 2, figsize=(16, 7), subplot_kw={'projection': ccrs.PlateCarree()})\n",
    "\n",
    "# CDOM Plot (left)\n",
    "ax1.set_extent([lon_edges_grid[0], lon_edges_grid[-1], lat_edges_grid[0], lat_edges_grid[-1]], crs=ccrs.PlateCarree())\n",
    "cdom_valid = ~np.isnan(binned_cdom_interpolated)\n",
    "if np.any(cdom_valid):\n",
    "    cdom_vmin = np.percentile(binned_cdom_interpolated[cdom_valid], 5)\n",
    "    cdom_vmax = np.percentile(binned_cdom_interpolated[cdom_valid], 95)\n",
    "    cdom_plot = ax1.pcolormesh(lon_edges_grid, lat_edges_grid, binned_cdom_interpolated, \n",
    "                              cmap=cmocean.cm.matter, shading='auto',\n",
    "                              vmin=cdom_vmin, vmax=cdom_vmax, transform=ccrs.PlateCarree())\n",
    "    fig.colorbar(cdom_plot, ax=ax1, label='CDOM', shrink=0.7)\n",
    "    \n",
    "ax1.add_feature(cfeature.COASTLINE, linewidth=0.8, edgecolor='black')\n",
    "ax1.add_feature(cfeature.LAND, facecolor='darkgray')\n",
    "ax1.set_title('Raw CDOM')\n",
    "\n",
    "# SST Anomaly Plot (right)\n",
    "ax2.set_extent([lon_edges_grid[0], lon_edges_grid[-1], lat_edges_grid[0], lat_edges_grid[-1]], crs=ccrs.PlateCarree())\n",
    "ssta_valid = ~np.isnan(binned_sst_anom_interpolated)\n",
    "if np.any(ssta_valid):\n",
    "    ssta_abs = np.percentile(np.abs(binned_sst_anom_interpolated[ssta_valid]), 95)\n",
    "    ssta_plot = ax2.pcolormesh(lon_edges_grid, lat_edges_grid, binned_sst_anom_interpolated,\n",
    "                              cmap='coolwarm', shading='auto', \n",
    "                              vmin=-ssta_abs, vmax=ssta_abs, transform=ccrs.PlateCarree())\n",
    "    fig.colorbar(ssta_plot, ax=ax2, label='SST Anomaly (°C)', shrink=0.7)\n",
    "\n",
    "ax2.add_feature(cfeature.COASTLINE, linewidth=0.8, edgecolor='black')\n",
    "ax2.add_feature(cfeature.LAND, facecolor='darkgray')\n",
    "ax2.set_title('Raw SST Anomaly')\n",
    "\n",
    "# Add gridlines\n",
    "for ax in [ax1, ax2]:\n",
    "    gl = ax.gridlines(crs=ccrs.PlateCarree(), draw_labels=True, linewidth=0.5, color='gray', alpha=0.5, linestyle='--')\n",
    "    gl.top_labels = False\n",
    "    gl.right_labels = False\n",
    "\n",
    "plt.tight_layout()\n",
    "plt.show()"
   ]
  },
  {
   "cell_type": "markdown",
   "id": "84fd325b",
   "metadata": {},
   "source": [
    "### Visualizing the Combined Product\n",
    "\n",
    "This plot shows the result of multiplying the indexed CDOM (0-1) with the normalized SST Anomaly (-1 to 1)."
   ]
  },
  {
   "cell_type": "code",
   "execution_count": null,
   "id": "e8925782",
   "metadata": {},
   "outputs": [],
   "source": [
    "# Plot the combined product\n",
    "fig = plt.figure(figsize=(10, 8))\n",
    "ax = plt.axes(projection=ccrs.PlateCarree())\n",
    "ax.set_extent([lon_edges_grid[0], lon_edges_grid[-1], lat_edges_grid[0], lat_edges_grid[-1]], crs=ccrs.PlateCarree())\n",
    "\n",
    "# Set color limits for 0 to 1\n",
    "comb_vmin, comb_vmax = 0, 1\n",
    "\n",
    "# Plot the combined product with cmocean matter colormap\n",
    "combined_plot = ax.pcolormesh(lon_edges_grid, lat_edges_grid, combined_product,\n",
    "                            cmap=cmocean.cm.matter, shading='auto',\n",
    "                            vmin=comb_vmin, vmax=comb_vmax, transform=ccrs.PlateCarree())\n",
    "\n",
    "# Add map features\n",
    "ax.add_feature(cfeature.COASTLINE, linewidth=0.8, edgecolor='black', zorder=3)\n",
    "ax.add_feature(cfeature.LAND, facecolor='darkgray', zorder=0)\n",
    "ax.add_feature(cfeature.BORDERS, linestyle=':', edgecolor='dimgray', zorder=2)\n",
    "\n",
    "# Add gridlines\n",
    "gl = ax.gridlines(crs=ccrs.PlateCarree(), draw_labels=True, linewidth=0.5, color='gray', alpha=0.5, linestyle='--')\n",
    "gl.top_labels = False\n",
    "gl.right_labels = False\n",
    "\n",
    "# Add colorbar\n",
    "cbar = fig.colorbar(combined_plot, ax=ax, label='CDOM × SST Anomaly Index', shrink=0.7, pad=0.08)\n",
    "\n",
    "plt.title(\"Combined Product: Indexed CDOM (0-1) × SST Anomaly (-1 to 1)\", fontsize=12)\n",
    "plt.tight_layout(pad=0.5)\n",
    "plt.show()"
   ]
  }
 ],
 "metadata": {
  "kernelspec": {
   "display_name": ".venv",
   "language": "python",
   "name": "python3"
  },
  "language_info": {
   "codemirror_mode": {
    "name": "ipython",
    "version": 3
   },
   "file_extension": ".py",
   "mimetype": "text/x-python",
   "name": "python",
   "nbconvert_exporter": "python",
   "pygments_lexer": "ipython3",
   "version": "3.12.2"
  }
 },
 "nbformat": 4,
 "nbformat_minor": 5
}
