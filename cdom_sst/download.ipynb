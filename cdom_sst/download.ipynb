{
 "cells": [
  {
   "cell_type": "markdown",
   "id": "086f3d29",
   "metadata": {},
   "source": [
    "# Download and Organize Satellite Data\n",
    "\n",
    "This notebook downloads NASA MODISA Level 2 Ocean Color data, organizes the downloaded files by geographical regions and time periods, and cleans up the downloaded files."
   ]
  },
  {
   "cell_type": "markdown",
   "id": "d44de1d9",
   "metadata": {},
   "source": [
    "### Imports and Authentication\n",
    "\n",
    "Imports required libraries and authenticates with EarthAccess."
   ]
  },
  {
   "cell_type": "code",
   "execution_count": 1,
   "id": "57be25af",
   "metadata": {},
   "outputs": [],
   "source": [
    "import earthaccess\n",
    "from pathlib import Path\n",
    "import shutil\n",
    "\n",
    "# Authenticate with EarthAccess\n",
    "auth = earthaccess.login(persist=True)"
   ]
  },
  {
   "cell_type": "markdown",
   "id": "e9284ef6",
   "metadata": {},
   "source": [
    "### Setup: Directories, Regions, Time Periods, and Dataset\n",
    "\n",
    "Sets up the base directory, defines the regions and time periods of interest, and specifies the dataset to be downloaded."
   ]
  },
  {
   "cell_type": "code",
   "execution_count": 2,
   "id": "95032c94",
   "metadata": {},
   "outputs": [],
   "source": [
    "base_dir = Path(\"E:\\\\satdata\")\n",
    "base_dir.mkdir(parents=True, exist_ok=True)\n",
    "\n",
    "# Define regions\n",
    "regions = {\n",
    "    \"Texas Louisiana Shelf\": {\"lon_min\": -94, \"lon_max\": -88, \"lat_min\": 27.5, \"lat_max\": 30.5}\n",
    "}\n",
    "\n",
    "# Define time periods\n",
    "time_periods = [\n",
    "    # (\"2024-06-01\", \"2024-06-30\")\n",
    "    (\"2012-08-24\", \"2012-09-02\")\n",
    "]"
   ]
  },
  {
   "cell_type": "markdown",
   "id": "bc6290a6",
   "metadata": {},
   "source": [
    "### Data Download and Organization\n",
    "\n",
    "Iterates over defined time periods and regions to search, download, and organize the data files accordingly."
   ]
  },
  {
   "cell_type": "code",
   "execution_count": 3,
   "id": "e61f0d59",
   "metadata": {},
   "outputs": [
    {
     "name": "stdout",
     "output_type": "stream",
     "text": [
      "\n",
      "🔎 Searching for Texas Louisiana Shelf data from 2012-08-24 to 2012-09-02\n"
     ]
    },
    {
     "data": {
      "application/vnd.jupyter.widget-view+json": {
       "model_id": "b74ecd43397a4605a74502307537a6c0",
       "version_major": 2,
       "version_minor": 0
      },
      "text/plain": [
       "QUEUEING TASKS | :   0%|          | 0/15 [00:00<?, ?it/s]"
      ]
     },
     "metadata": {},
     "output_type": "display_data"
    },
    {
     "data": {
      "application/vnd.jupyter.widget-view+json": {
       "model_id": "a6bfd2eec7494395b852af7089b27a47",
       "version_major": 2,
       "version_minor": 0
      },
      "text/plain": [
       "PROCESSING TASKS | :   0%|          | 0/15 [00:00<?, ?it/s]"
      ]
     },
     "metadata": {},
     "output_type": "display_data"
    },
    {
     "data": {
      "application/vnd.jupyter.widget-view+json": {
       "model_id": "2de6f8649f264d7d93e8dd0dc8887b62",
       "version_major": 2,
       "version_minor": 0
      },
      "text/plain": [
       "COLLECTING RESULTS | :   0%|          | 0/15 [00:00<?, ?it/s]"
      ]
     },
     "metadata": {},
     "output_type": "display_data"
    },
    {
     "name": "stdout",
     "output_type": "stream",
     "text": [
      "✅ Downloaded and organized 15 files into E:\\satdata\\Texas Louisiana Shelf_2012-08-24_2012-09-02\n"
     ]
    }
   ],
   "source": [
    "# Dataset to use\n",
    "dataset_short_name = \"MODISA_L2_OC\"\n",
    "\n",
    "for time_period in time_periods:\n",
    "    for region, coords in regions.items():\n",
    "        print(f\"\\n🔎 Searching for {region} data from {time_period[0]} to {time_period[1]}\")\n",
    "\n",
    "        results = earthaccess.search_data(\n",
    "            short_name=dataset_short_name,\n",
    "            temporal=time_period,\n",
    "            bounding_box=(\n",
    "                coords[\"lon_min\"],\n",
    "                coords[\"lat_min\"],\n",
    "                coords[\"lon_max\"],\n",
    "                coords[\"lat_max\"]\n",
    "            )\n",
    "        )\n",
    "\n",
    "        if not results:\n",
    "            print(f\"No results for {region} during {time_period[0]} to {time_period[1]}\")\n",
    "            continue\n",
    "\n",
    "        # Download data to the default cache directory\n",
    "        downloaded_files = earthaccess.download(results)\n",
    "\n",
    "        # Create output directory and move downloaded files\n",
    "        out_dir = base_dir / f\"{region}_{time_period[0]}_{time_period[1]}\"\n",
    "        out_dir.mkdir(parents=True, exist_ok=True)\n",
    "\n",
    "        for file_path in downloaded_files:\n",
    "            src = Path(file_path)\n",
    "            dest = out_dir / src.name\n",
    "            shutil.move(str(src), str(dest))  # Move file from cache to output directory\n",
    "\n",
    "        print(f\"✅ Downloaded and organized {len(downloaded_files)} files into {out_dir}\")"
   ]
  },
  {
   "cell_type": "code",
   "execution_count": 10,
   "id": "f6906636",
   "metadata": {},
   "outputs": [
    {
     "name": "stdout",
     "output_type": "stream",
     "text": [
      "\n",
      "🔎 Searching for MODIS_A-JPL-L2P-v2019.0 data in Texas Louisiana Shelf from 2024-06-01 to 2024-06-30\n"
     ]
    },
    {
     "data": {
      "application/vnd.jupyter.widget-view+json": {
       "model_id": "fe8f7e8a23254734b83d054c1afcf312",
       "version_major": 2,
       "version_minor": 0
      },
      "text/plain": [
       "QUEUEING TASKS | :   0%|          | 0/86 [00:00<?, ?it/s]"
      ]
     },
     "metadata": {},
     "output_type": "display_data"
    },
    {
     "data": {
      "application/vnd.jupyter.widget-view+json": {
       "model_id": "fbc66e669fc848d5a9f21a68eafdd896",
       "version_major": 2,
       "version_minor": 0
      },
      "text/plain": [
       "PROCESSING TASKS | :   0%|          | 0/86 [00:00<?, ?it/s]"
      ]
     },
     "metadata": {},
     "output_type": "display_data"
    },
    {
     "data": {
      "application/vnd.jupyter.widget-view+json": {
       "model_id": "15dd3615ae614f369c39de24c9f94627",
       "version_major": 2,
       "version_minor": 0
      },
      "text/plain": [
       "COLLECTING RESULTS | :   0%|          | 0/86 [00:00<?, ?it/s]"
      ]
     },
     "metadata": {},
     "output_type": "display_data"
    },
    {
     "name": "stdout",
     "output_type": "stream",
     "text": [
      "✅ Downloaded and organized 86 files for MODIS_A-JPL-L2P-v2019.0 into E:\\satdata\\MODIS_A-JPL-L2P-v2019.0_Texas Louisiana Shelf_2024-06-01_2024-06-30\n"
     ]
    }
   ],
   "source": [
    "# SST Dataset to use\n",
    "sst_dataset_short_name = \"MODIS_A-JPL-L2P-v2019.0\"\n",
    "\n",
    "for time_period in time_periods:\n",
    "    for region, coords in regions.items():\n",
    "        print(f\"\\n🔎 Searching for {sst_dataset_short_name} data in {region} from {time_period[0]} to {time_period[1]}\")\n",
    "\n",
    "        results = earthaccess.search_data(\n",
    "            short_name=sst_dataset_short_name,\n",
    "            temporal=time_period,\n",
    "            bounding_box=(\n",
    "                coords[\"lon_min\"],\n",
    "                coords[\"lat_min\"],\n",
    "                coords[\"lon_max\"],\n",
    "                coords[\"lat_max\"]\n",
    "            )\n",
    "        )\n",
    "\n",
    "        if not results:\n",
    "            print(f\"No results for {sst_dataset_short_name} in {region} during {time_period[0]} to {time_period[1]}\")\n",
    "            continue\n",
    "\n",
    "        # Download data to the default cache directory\n",
    "        downloaded_files = earthaccess.download(results)\n",
    "\n",
    "        # Create output directory and move downloaded files\n",
    "        # Differentiate SST output directory\n",
    "        out_dir = base_dir / f\"{sst_dataset_short_name}_{region}_{time_period[0]}_{time_period[1]}\"\n",
    "        out_dir.mkdir(parents=True, exist_ok=True)\n",
    "\n",
    "        for file_path in downloaded_files:\n",
    "            src = Path(file_path)\n",
    "            dest = out_dir / src.name\n",
    "            shutil.move(str(src), str(dest))  # Move file from cache to output directory\n",
    "\n",
    "        print(f\"✅ Downloaded and organized {len(downloaded_files)} files for {sst_dataset_short_name} into {out_dir}\")"
   ]
  },
  {
   "cell_type": "code",
   "execution_count": 4,
   "id": "47c90be8",
   "metadata": {},
   "outputs": [
    {
     "name": "stdout",
     "output_type": "stream",
     "text": [
      "\n",
      "🔎 Searching for MUR-JPL-L4-GLOB-v4.1 data in Texas Louisiana Shelf from 2012-08-24 to 2012-09-02\n"
     ]
    },
    {
     "data": {
      "application/vnd.jupyter.widget-view+json": {
       "model_id": "47ecf8ed5bde4a08ab2a63f4ab4ba6eb",
       "version_major": 2,
       "version_minor": 0
      },
      "text/plain": [
       "QUEUEING TASKS | :   0%|          | 0/11 [00:00<?, ?it/s]"
      ]
     },
     "metadata": {},
     "output_type": "display_data"
    },
    {
     "data": {
      "application/vnd.jupyter.widget-view+json": {
       "model_id": "e28695af303948c9b9b45c9927b6f269",
       "version_major": 2,
       "version_minor": 0
      },
      "text/plain": [
       "PROCESSING TASKS | :   0%|          | 0/11 [00:00<?, ?it/s]"
      ]
     },
     "metadata": {},
     "output_type": "display_data"
    },
    {
     "data": {
      "application/vnd.jupyter.widget-view+json": {
       "model_id": "1961b7e325014d31b44984c784379b97",
       "version_major": 2,
       "version_minor": 0
      },
      "text/plain": [
       "COLLECTING RESULTS | :   0%|          | 0/11 [00:00<?, ?it/s]"
      ]
     },
     "metadata": {},
     "output_type": "display_data"
    },
    {
     "name": "stdout",
     "output_type": "stream",
     "text": [
      "✅ Downloaded and organized 11 files for MUR-JPL-L4-GLOB-v4.1 into E:\\satdata\\MUR-JPL-L4-GLOB-v4.1_Texas Louisiana Shelf_2012-08-24_2012-09-02\n"
     ]
    }
   ],
   "source": [
    "# SST Dataset to use\n",
    "# jplMURSST41anom1day\n",
    "# MUR‑JPL‑L4‑GLOB‑v4.1\n",
    "sst_dataset_short_name = \"MUR-JPL-L4-GLOB-v4.1\"\n",
    "\n",
    "for time_period in time_periods:\n",
    "    for region, coords in regions.items():\n",
    "        print(f\"\\n🔎 Searching for {sst_dataset_short_name} data in {region} from {time_period[0]} to {time_period[1]}\")\n",
    "\n",
    "        results = earthaccess.search_data(\n",
    "            short_name=sst_dataset_short_name,\n",
    "            temporal=time_period,\n",
    "            bounding_box=(\n",
    "                coords[\"lon_min\"],\n",
    "                coords[\"lat_min\"],\n",
    "                coords[\"lon_max\"],\n",
    "                coords[\"lat_max\"]\n",
    "            )\n",
    "        )\n",
    "\n",
    "        if not results:\n",
    "            print(f\"No results for {sst_dataset_short_name} in {region} during {time_period[0]} to {time_period[1]}\")\n",
    "            continue\n",
    "\n",
    "        # Download data to the default cache directory\n",
    "        downloaded_files = earthaccess.download(results)\n",
    "\n",
    "        # Create output directory and move downloaded files\n",
    "        # Differentiate SST output directory\n",
    "        out_dir = base_dir / f\"{sst_dataset_short_name}_{region}_{time_period[0]}_{time_period[1]}\"\n",
    "        out_dir.mkdir(parents=True, exist_ok=True)\n",
    "\n",
    "        for file_path in downloaded_files:\n",
    "            src = Path(file_path)\n",
    "            dest = out_dir / src.name\n",
    "            shutil.move(str(src), str(dest))  # Move file from cache to output directory\n",
    "\n",
    "        print(f\"✅ Downloaded and organized {len(downloaded_files)} files for {sst_dataset_short_name} into {out_dir}\")"
   ]
  }
 ],
 "metadata": {
  "kernelspec": {
   "display_name": "base",
   "language": "python",
   "name": "python3"
  },
  "language_info": {
   "codemirror_mode": {
    "name": "ipython",
    "version": 3
   },
   "file_extension": ".py",
   "mimetype": "text/x-python",
   "name": "python",
   "nbconvert_exporter": "python",
   "pygments_lexer": "ipython3",
   "version": "3.12.4"
  }
 },
 "nbformat": 4,
 "nbformat_minor": 5
}
