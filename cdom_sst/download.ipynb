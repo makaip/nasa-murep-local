{
 "cells": [
  {
   "cell_type": "markdown",
   "id": "086f3d29",
   "metadata": {},
   "source": [
    "# Download and Organize Satellite Data\n",
    "\n",
    "This notebook downloads NASA MODISA Level 2 Ocean Color data, organizes the downloaded files by geographical regions and time periods, and cleans up the downloaded files."
   ]
  },
  {
   "cell_type": "markdown",
   "id": "d44de1d9",
   "metadata": {},
   "source": [
    "### Imports and Authentication\n",
    "\n",
    "Imports required libraries and authenticates with EarthAccess."
   ]
  },
  {
   "cell_type": "code",
   "execution_count": 1,
   "id": "57be25af",
   "metadata": {},
   "outputs": [],
   "source": [
    "import earthaccess\n",
    "from pathlib import Path\n",
    "import shutil\n",
    "\n",
    "# Authenticate with EarthAccess\n",
    "auth = earthaccess.login(persist=True)"
   ]
  },
  {
   "cell_type": "markdown",
   "id": "e9284ef6",
   "metadata": {},
   "source": [
    "### Setup: Directories, Regions, Time Periods, and Dataset\n",
    "\n",
    "Sets up the base directory, defines the regions and time periods of interest, and specifies the dataset to be downloaded."
   ]
  },
  {
   "cell_type": "code",
   "execution_count": 3,
   "id": "95032c94",
   "metadata": {},
   "outputs": [],
   "source": [
    "base_dir = Path(\"E:\\\\satdata\")\n",
    "base_dir.mkdir(parents=True, exist_ok=True)\n",
    "\n",
    "# Define regions\n",
    "regions = {\n",
    "    \"Texas Louisiana Shelf\": {\"lon_min\": -94, \"lon_max\": -88, \"lat_min\": 27.5, \"lat_max\": 30.5}\n",
    "}\n",
    "\n",
    "# Define time periods\n",
    "time_periods = [\n",
    "    # (\"2024-06-01\", \"2024-06-30\")\n",
    "    # (\"2012-08-24\", \"2012-09-02\")\n",
    "\n",
    "    (\"2005-06-01\", \"2005-11-30\"),\n",
    "    (\"2006-06-01\", \"2006-11-30\"),\n",
    "    (\"2007-06-01\", \"2007-11-30\"),\n",
    "    (\"2008-06-01\", \"2008-11-30\"),\n",
    "    (\"2009-06-01\", \"2009-11-30\"),\n",
    "    (\"2010-06-01\", \"2010-11-30\"),\n",
    "    (\"2011-06-01\", \"2011-11-30\"),\n",
    "]"
   ]
  },
  {
   "cell_type": "markdown",
   "id": "bc6290a6",
   "metadata": {},
   "source": [
    "### Data Download and Organization\n",
    "\n",
    "Iterates over defined time periods and regions to search, download, and organize the data files accordingly."
   ]
  },
  {
   "cell_type": "code",
   "execution_count": 4,
   "id": "e61f0d59",
   "metadata": {},
   "outputs": [
    {
     "name": "stdout",
     "output_type": "stream",
     "text": [
      "\n",
      "🔎 Searching for Texas Louisiana Shelf data from 2005-06-01 to 2005-11-30\n"
     ]
    },
    {
     "data": {
      "application/vnd.jupyter.widget-view+json": {
       "model_id": "c8a8d057170b491a828027841a22e1e2",
       "version_major": 2,
       "version_minor": 0
      },
      "text/plain": [
       "QUEUEING TASKS | :   0%|          | 0/285 [00:00<?, ?it/s]"
      ]
     },
     "metadata": {},
     "output_type": "display_data"
    },
    {
     "data": {
      "application/vnd.jupyter.widget-view+json": {
       "model_id": "58b0c16b6e7644a58757e97c1d2d81c9",
       "version_major": 2,
       "version_minor": 0
      },
      "text/plain": [
       "PROCESSING TASKS | :   0%|          | 0/285 [00:00<?, ?it/s]"
      ]
     },
     "metadata": {},
     "output_type": "display_data"
    },
    {
     "data": {
      "application/vnd.jupyter.widget-view+json": {
       "model_id": "c2872b35dc454dae8d52e15ab3c62f64",
       "version_major": 2,
       "version_minor": 0
      },
      "text/plain": [
       "COLLECTING RESULTS | :   0%|          | 0/285 [00:00<?, ?it/s]"
      ]
     },
     "metadata": {},
     "output_type": "display_data"
    },
    {
     "name": "stdout",
     "output_type": "stream",
     "text": [
      "✅ Downloaded and organized 285 files into E:\\satdata\\Texas Louisiana Shelf_2005-06-01_2005-11-30\n",
      "\n",
      "🔎 Searching for Texas Louisiana Shelf data from 2006-06-01 to 2006-11-30\n"
     ]
    },
    {
     "data": {
      "application/vnd.jupyter.widget-view+json": {
       "model_id": "8ade6179f93d418f8a5e5c1e460026c8",
       "version_major": 2,
       "version_minor": 0
      },
      "text/plain": [
       "QUEUEING TASKS | :   0%|          | 0/291 [00:00<?, ?it/s]"
      ]
     },
     "metadata": {},
     "output_type": "display_data"
    },
    {
     "data": {
      "application/vnd.jupyter.widget-view+json": {
       "model_id": "f598dc44414647dea5eb9c663e417764",
       "version_major": 2,
       "version_minor": 0
      },
      "text/plain": [
       "PROCESSING TASKS | :   0%|          | 0/291 [00:00<?, ?it/s]"
      ]
     },
     "metadata": {},
     "output_type": "display_data"
    },
    {
     "data": {
      "application/vnd.jupyter.widget-view+json": {
       "model_id": "5e4c4a6e496942a8834b11827aaa321c",
       "version_major": 2,
       "version_minor": 0
      },
      "text/plain": [
       "COLLECTING RESULTS | :   0%|          | 0/291 [00:00<?, ?it/s]"
      ]
     },
     "metadata": {},
     "output_type": "display_data"
    },
    {
     "name": "stdout",
     "output_type": "stream",
     "text": [
      "✅ Downloaded and organized 291 files into E:\\satdata\\Texas Louisiana Shelf_2006-06-01_2006-11-30\n",
      "\n",
      "🔎 Searching for Texas Louisiana Shelf data from 2007-06-01 to 2007-11-30\n"
     ]
    },
    {
     "data": {
      "application/vnd.jupyter.widget-view+json": {
       "model_id": "33a82094ca434cbcb32c526b66ac4ee0",
       "version_major": 2,
       "version_minor": 0
      },
      "text/plain": [
       "QUEUEING TASKS | :   0%|          | 0/292 [00:00<?, ?it/s]"
      ]
     },
     "metadata": {},
     "output_type": "display_data"
    },
    {
     "data": {
      "application/vnd.jupyter.widget-view+json": {
       "model_id": "29a9399bb2fd492d911e43a315f6557b",
       "version_major": 2,
       "version_minor": 0
      },
      "text/plain": [
       "PROCESSING TASKS | :   0%|          | 0/292 [00:00<?, ?it/s]"
      ]
     },
     "metadata": {},
     "output_type": "display_data"
    },
    {
     "data": {
      "application/vnd.jupyter.widget-view+json": {
       "model_id": "6a3dad7d9b7447b4985a67b54d0f5820",
       "version_major": 2,
       "version_minor": 0
      },
      "text/plain": [
       "COLLECTING RESULTS | :   0%|          | 0/292 [00:00<?, ?it/s]"
      ]
     },
     "metadata": {},
     "output_type": "display_data"
    },
    {
     "name": "stdout",
     "output_type": "stream",
     "text": [
      "✅ Downloaded and organized 292 files into E:\\satdata\\Texas Louisiana Shelf_2007-06-01_2007-11-30\n",
      "\n",
      "🔎 Searching for Texas Louisiana Shelf data from 2008-06-01 to 2008-11-30\n"
     ]
    },
    {
     "data": {
      "application/vnd.jupyter.widget-view+json": {
       "model_id": "fa31ff4f6ecb4e45944e363c332eabb3",
       "version_major": 2,
       "version_minor": 0
      },
      "text/plain": [
       "QUEUEING TASKS | :   0%|          | 0/289 [00:00<?, ?it/s]"
      ]
     },
     "metadata": {},
     "output_type": "display_data"
    },
    {
     "data": {
      "application/vnd.jupyter.widget-view+json": {
       "model_id": "c5fede0cfc9d4979bb735871464a3eb7",
       "version_major": 2,
       "version_minor": 0
      },
      "text/plain": [
       "PROCESSING TASKS | :   0%|          | 0/289 [00:00<?, ?it/s]"
      ]
     },
     "metadata": {},
     "output_type": "display_data"
    },
    {
     "data": {
      "application/vnd.jupyter.widget-view+json": {
       "model_id": "b25fbebdb042452ea1e5e103cff60010",
       "version_major": 2,
       "version_minor": 0
      },
      "text/plain": [
       "COLLECTING RESULTS | :   0%|          | 0/289 [00:00<?, ?it/s]"
      ]
     },
     "metadata": {},
     "output_type": "display_data"
    },
    {
     "name": "stdout",
     "output_type": "stream",
     "text": [
      "✅ Downloaded and organized 289 files into E:\\satdata\\Texas Louisiana Shelf_2008-06-01_2008-11-30\n",
      "\n",
      "🔎 Searching for Texas Louisiana Shelf data from 2009-06-01 to 2009-11-30\n"
     ]
    },
    {
     "data": {
      "application/vnd.jupyter.widget-view+json": {
       "model_id": "c101185b126a476ea6fcf33549ff583c",
       "version_major": 2,
       "version_minor": 0
      },
      "text/plain": [
       "QUEUEING TASKS | :   0%|          | 0/284 [00:00<?, ?it/s]"
      ]
     },
     "metadata": {},
     "output_type": "display_data"
    },
    {
     "data": {
      "application/vnd.jupyter.widget-view+json": {
       "model_id": "05637a77b8884fc8bdc5c24e0f1e39db",
       "version_major": 2,
       "version_minor": 0
      },
      "text/plain": [
       "PROCESSING TASKS | :   0%|          | 0/284 [00:00<?, ?it/s]"
      ]
     },
     "metadata": {},
     "output_type": "display_data"
    },
    {
     "data": {
      "application/vnd.jupyter.widget-view+json": {
       "model_id": "4c6a46cfca5246639a0fdee874a29888",
       "version_major": 2,
       "version_minor": 0
      },
      "text/plain": [
       "COLLECTING RESULTS | :   0%|          | 0/284 [00:00<?, ?it/s]"
      ]
     },
     "metadata": {},
     "output_type": "display_data"
    },
    {
     "name": "stdout",
     "output_type": "stream",
     "text": [
      "✅ Downloaded and organized 284 files into E:\\satdata\\Texas Louisiana Shelf_2009-06-01_2009-11-30\n",
      "\n",
      "🔎 Searching for Texas Louisiana Shelf data from 2010-06-01 to 2010-11-30\n"
     ]
    },
    {
     "data": {
      "application/vnd.jupyter.widget-view+json": {
       "model_id": "e56763b32bcb46f3a93a0d16e145bdf2",
       "version_major": 2,
       "version_minor": 0
      },
      "text/plain": [
       "QUEUEING TASKS | :   0%|          | 0/290 [00:00<?, ?it/s]"
      ]
     },
     "metadata": {},
     "output_type": "display_data"
    },
    {
     "data": {
      "application/vnd.jupyter.widget-view+json": {
       "model_id": "b265dadb5e2443efa08bff4f5953dc90",
       "version_major": 2,
       "version_minor": 0
      },
      "text/plain": [
       "PROCESSING TASKS | :   0%|          | 0/290 [00:00<?, ?it/s]"
      ]
     },
     "metadata": {},
     "output_type": "display_data"
    },
    {
     "data": {
      "application/vnd.jupyter.widget-view+json": {
       "model_id": "9d0861077c5b4d9992620c3662cf6f3b",
       "version_major": 2,
       "version_minor": 0
      },
      "text/plain": [
       "COLLECTING RESULTS | :   0%|          | 0/290 [00:00<?, ?it/s]"
      ]
     },
     "metadata": {},
     "output_type": "display_data"
    },
    {
     "name": "stdout",
     "output_type": "stream",
     "text": [
      "✅ Downloaded and organized 290 files into E:\\satdata\\Texas Louisiana Shelf_2010-06-01_2010-11-30\n",
      "\n",
      "🔎 Searching for Texas Louisiana Shelf data from 2011-06-01 to 2011-11-30\n"
     ]
    },
    {
     "data": {
      "application/vnd.jupyter.widget-view+json": {
       "model_id": "a371e08c57ef485bba041a5bcf3a0bf6",
       "version_major": 2,
       "version_minor": 0
      },
      "text/plain": [
       "QUEUEING TASKS | :   0%|          | 0/296 [00:00<?, ?it/s]"
      ]
     },
     "metadata": {},
     "output_type": "display_data"
    },
    {
     "data": {
      "application/vnd.jupyter.widget-view+json": {
       "model_id": "585c07ac7cd14cdba2a082b18b597594",
       "version_major": 2,
       "version_minor": 0
      },
      "text/plain": [
       "PROCESSING TASKS | :   0%|          | 0/296 [00:00<?, ?it/s]"
      ]
     },
     "metadata": {},
     "output_type": "display_data"
    },
    {
     "data": {
      "application/vnd.jupyter.widget-view+json": {
       "model_id": "418c9dd777cb4e9eb1e30456ab54854b",
       "version_major": 2,
       "version_minor": 0
      },
      "text/plain": [
       "COLLECTING RESULTS | :   0%|          | 0/296 [00:00<?, ?it/s]"
      ]
     },
     "metadata": {},
     "output_type": "display_data"
    },
    {
     "name": "stdout",
     "output_type": "stream",
     "text": [
      "✅ Downloaded and organized 296 files into E:\\satdata\\Texas Louisiana Shelf_2011-06-01_2011-11-30\n"
     ]
    }
   ],
   "source": [
    "# Dataset to use\n",
    "dataset_short_name = \"MODISA_L2_OC\"\n",
    "\n",
    "for time_period in time_periods:\n",
    "    for region, coords in regions.items():\n",
    "        print(f\"\\n🔎 Searching for {region} data from {time_period[0]} to {time_period[1]}\")\n",
    "\n",
    "        results = earthaccess.search_data(\n",
    "            short_name=dataset_short_name,\n",
    "            temporal=time_period,\n",
    "            bounding_box=(\n",
    "                coords[\"lon_min\"],\n",
    "                coords[\"lat_min\"],\n",
    "                coords[\"lon_max\"],\n",
    "                coords[\"lat_max\"]\n",
    "            )\n",
    "        )\n",
    "\n",
    "        if not results:\n",
    "            print(f\"No results for {region} during {time_period[0]} to {time_period[1]}\")\n",
    "            continue\n",
    "\n",
    "        # Download data to the default cache directory\n",
    "        downloaded_files = earthaccess.download(results)\n",
    "\n",
    "        # Create output directory and move downloaded files\n",
    "        out_dir = base_dir / f\"{region}_{time_period[0]}_{time_period[1]}\"\n",
    "        out_dir.mkdir(parents=True, exist_ok=True)\n",
    "\n",
    "        for file_path in downloaded_files:\n",
    "            src = Path(file_path)\n",
    "            dest = out_dir / src.name\n",
    "            shutil.move(str(src), str(dest))  # Move file from cache to output directory\n",
    "\n",
    "        print(f\"✅ Downloaded and organized {len(downloaded_files)} files into {out_dir}\")"
   ]
  },
  {
   "cell_type": "code",
   "execution_count": 10,
   "id": "f6906636",
   "metadata": {},
   "outputs": [
    {
     "name": "stdout",
     "output_type": "stream",
     "text": [
      "\n",
      "🔎 Searching for MODIS_A-JPL-L2P-v2019.0 data in Texas Louisiana Shelf from 2024-06-01 to 2024-06-30\n"
     ]
    },
    {
     "data": {
      "application/vnd.jupyter.widget-view+json": {
       "model_id": "fe8f7e8a23254734b83d054c1afcf312",
       "version_major": 2,
       "version_minor": 0
      },
      "text/plain": [
       "QUEUEING TASKS | :   0%|          | 0/86 [00:00<?, ?it/s]"
      ]
     },
     "metadata": {},
     "output_type": "display_data"
    },
    {
     "data": {
      "application/vnd.jupyter.widget-view+json": {
       "model_id": "fbc66e669fc848d5a9f21a68eafdd896",
       "version_major": 2,
       "version_minor": 0
      },
      "text/plain": [
       "PROCESSING TASKS | :   0%|          | 0/86 [00:00<?, ?it/s]"
      ]
     },
     "metadata": {},
     "output_type": "display_data"
    },
    {
     "data": {
      "application/vnd.jupyter.widget-view+json": {
       "model_id": "15dd3615ae614f369c39de24c9f94627",
       "version_major": 2,
       "version_minor": 0
      },
      "text/plain": [
       "COLLECTING RESULTS | :   0%|          | 0/86 [00:00<?, ?it/s]"
      ]
     },
     "metadata": {},
     "output_type": "display_data"
    },
    {
     "name": "stdout",
     "output_type": "stream",
     "text": [
      "✅ Downloaded and organized 86 files for MODIS_A-JPL-L2P-v2019.0 into E:\\satdata\\MODIS_A-JPL-L2P-v2019.0_Texas Louisiana Shelf_2024-06-01_2024-06-30\n"
     ]
    }
   ],
   "source": [
    "# SST Dataset to use\n",
    "sst_dataset_short_name = \"MODIS_A-JPL-L2P-v2019.0\"\n",
    "\n",
    "for time_period in time_periods:\n",
    "    for region, coords in regions.items():\n",
    "        print(f\"\\n🔎 Searching for {sst_dataset_short_name} data in {region} from {time_period[0]} to {time_period[1]}\")\n",
    "\n",
    "        results = earthaccess.search_data(\n",
    "            short_name=sst_dataset_short_name,\n",
    "            temporal=time_period,\n",
    "            bounding_box=(\n",
    "                coords[\"lon_min\"],\n",
    "                coords[\"lat_min\"],\n",
    "                coords[\"lon_max\"],\n",
    "                coords[\"lat_max\"]\n",
    "            )\n",
    "        )\n",
    "\n",
    "        if not results:\n",
    "            print(f\"No results for {sst_dataset_short_name} in {region} during {time_period[0]} to {time_period[1]}\")\n",
    "            continue\n",
    "\n",
    "        # Download data to the default cache directory\n",
    "        downloaded_files = earthaccess.download(results)\n",
    "\n",
    "        # Create output directory and move downloaded files\n",
    "        # Differentiate SST output directory\n",
    "        out_dir = base_dir / f\"{sst_dataset_short_name}_{region}_{time_period[0]}_{time_period[1]}\"\n",
    "        out_dir.mkdir(parents=True, exist_ok=True)\n",
    "\n",
    "        for file_path in downloaded_files:\n",
    "            src = Path(file_path)\n",
    "            dest = out_dir / src.name\n",
    "            shutil.move(str(src), str(dest))  # Move file from cache to output directory\n",
    "\n",
    "        print(f\"✅ Downloaded and organized {len(downloaded_files)} files for {sst_dataset_short_name} into {out_dir}\")"
   ]
  },
  {
   "cell_type": "code",
   "execution_count": 5,
   "id": "47c90be8",
   "metadata": {},
   "outputs": [
    {
     "name": "stdout",
     "output_type": "stream",
     "text": [
      "\n",
      "🔎 Searching for MUR-JPL-L4-GLOB-v4.1 data in Texas Louisiana Shelf from 2005-06-01 to 2005-11-30\n"
     ]
    },
    {
     "data": {
      "application/vnd.jupyter.widget-view+json": {
       "model_id": "d059e84eb6f84f989ddd2e833813500c",
       "version_major": 2,
       "version_minor": 0
      },
      "text/plain": [
       "QUEUEING TASKS | :   0%|          | 0/184 [00:00<?, ?it/s]"
      ]
     },
     "metadata": {},
     "output_type": "display_data"
    },
    {
     "data": {
      "application/vnd.jupyter.widget-view+json": {
       "model_id": "5a2e1fb40b4b4db19a3859889fc08e0f",
       "version_major": 2,
       "version_minor": 0
      },
      "text/plain": [
       "PROCESSING TASKS | :   0%|          | 0/184 [00:00<?, ?it/s]"
      ]
     },
     "metadata": {},
     "output_type": "display_data"
    },
    {
     "data": {
      "application/vnd.jupyter.widget-view+json": {
       "model_id": "c103c1eb1e564202bff5a719641daa5c",
       "version_major": 2,
       "version_minor": 0
      },
      "text/plain": [
       "COLLECTING RESULTS | :   0%|          | 0/184 [00:00<?, ?it/s]"
      ]
     },
     "metadata": {},
     "output_type": "display_data"
    },
    {
     "name": "stdout",
     "output_type": "stream",
     "text": [
      "✅ Downloaded and organized 184 files for MUR-JPL-L4-GLOB-v4.1 into E:\\satdata\\MUR-JPL-L4-GLOB-v4.1_Texas Louisiana Shelf_2005-06-01_2005-11-30\n",
      "\n",
      "🔎 Searching for MUR-JPL-L4-GLOB-v4.1 data in Texas Louisiana Shelf from 2006-06-01 to 2006-11-30\n"
     ]
    },
    {
     "data": {
      "application/vnd.jupyter.widget-view+json": {
       "model_id": "52deebe5566f416e9541ffdc2632c530",
       "version_major": 2,
       "version_minor": 0
      },
      "text/plain": [
       "QUEUEING TASKS | :   0%|          | 0/184 [00:00<?, ?it/s]"
      ]
     },
     "metadata": {},
     "output_type": "display_data"
    },
    {
     "data": {
      "application/vnd.jupyter.widget-view+json": {
       "model_id": "b4e9e4d05e6d4e488831fddc6e86d29f",
       "version_major": 2,
       "version_minor": 0
      },
      "text/plain": [
       "PROCESSING TASKS | :   0%|          | 0/184 [00:00<?, ?it/s]"
      ]
     },
     "metadata": {},
     "output_type": "display_data"
    },
    {
     "data": {
      "application/vnd.jupyter.widget-view+json": {
       "model_id": "47bc5e00ba7741a0bf285aee11acc37d",
       "version_major": 2,
       "version_minor": 0
      },
      "text/plain": [
       "COLLECTING RESULTS | :   0%|          | 0/184 [00:00<?, ?it/s]"
      ]
     },
     "metadata": {},
     "output_type": "display_data"
    },
    {
     "name": "stdout",
     "output_type": "stream",
     "text": [
      "✅ Downloaded and organized 184 files for MUR-JPL-L4-GLOB-v4.1 into E:\\satdata\\MUR-JPL-L4-GLOB-v4.1_Texas Louisiana Shelf_2006-06-01_2006-11-30\n",
      "\n",
      "🔎 Searching for MUR-JPL-L4-GLOB-v4.1 data in Texas Louisiana Shelf from 2007-06-01 to 2007-11-30\n"
     ]
    },
    {
     "data": {
      "application/vnd.jupyter.widget-view+json": {
       "model_id": "de1d6fdb8a6b41cca563572124ceb9aa",
       "version_major": 2,
       "version_minor": 0
      },
      "text/plain": [
       "QUEUEING TASKS | :   0%|          | 0/184 [00:00<?, ?it/s]"
      ]
     },
     "metadata": {},
     "output_type": "display_data"
    },
    {
     "data": {
      "application/vnd.jupyter.widget-view+json": {
       "model_id": "6a01f71b1c9c465fa4c162cc1505f428",
       "version_major": 2,
       "version_minor": 0
      },
      "text/plain": [
       "PROCESSING TASKS | :   0%|          | 0/184 [00:00<?, ?it/s]"
      ]
     },
     "metadata": {},
     "output_type": "display_data"
    },
    {
     "data": {
      "application/vnd.jupyter.widget-view+json": {
       "model_id": "40094d3c4a2a4e83a0dbcd389dc2381f",
       "version_major": 2,
       "version_minor": 0
      },
      "text/plain": [
       "COLLECTING RESULTS | :   0%|          | 0/184 [00:00<?, ?it/s]"
      ]
     },
     "metadata": {},
     "output_type": "display_data"
    },
    {
     "name": "stdout",
     "output_type": "stream",
     "text": [
      "✅ Downloaded and organized 184 files for MUR-JPL-L4-GLOB-v4.1 into E:\\satdata\\MUR-JPL-L4-GLOB-v4.1_Texas Louisiana Shelf_2007-06-01_2007-11-30\n",
      "\n",
      "🔎 Searching for MUR-JPL-L4-GLOB-v4.1 data in Texas Louisiana Shelf from 2008-06-01 to 2008-11-30\n"
     ]
    },
    {
     "data": {
      "application/vnd.jupyter.widget-view+json": {
       "model_id": "6a7a207738c548afbb1e21b989b4a3cb",
       "version_major": 2,
       "version_minor": 0
      },
      "text/plain": [
       "QUEUEING TASKS | :   0%|          | 0/184 [00:00<?, ?it/s]"
      ]
     },
     "metadata": {},
     "output_type": "display_data"
    },
    {
     "data": {
      "application/vnd.jupyter.widget-view+json": {
       "model_id": "57cb8e680e4a45bca4a57a0dcd61aad9",
       "version_major": 2,
       "version_minor": 0
      },
      "text/plain": [
       "PROCESSING TASKS | :   0%|          | 0/184 [00:00<?, ?it/s]"
      ]
     },
     "metadata": {},
     "output_type": "display_data"
    },
    {
     "data": {
      "application/vnd.jupyter.widget-view+json": {
       "model_id": "688398536a7a4b54b0e62718049b4344",
       "version_major": 2,
       "version_minor": 0
      },
      "text/plain": [
       "COLLECTING RESULTS | :   0%|          | 0/184 [00:00<?, ?it/s]"
      ]
     },
     "metadata": {},
     "output_type": "display_data"
    },
    {
     "name": "stdout",
     "output_type": "stream",
     "text": [
      "✅ Downloaded and organized 184 files for MUR-JPL-L4-GLOB-v4.1 into E:\\satdata\\MUR-JPL-L4-GLOB-v4.1_Texas Louisiana Shelf_2008-06-01_2008-11-30\n",
      "\n",
      "🔎 Searching for MUR-JPL-L4-GLOB-v4.1 data in Texas Louisiana Shelf from 2009-06-01 to 2009-11-30\n"
     ]
    },
    {
     "data": {
      "application/vnd.jupyter.widget-view+json": {
       "model_id": "0d97d06c5bc242c882d89ecd674c2e92",
       "version_major": 2,
       "version_minor": 0
      },
      "text/plain": [
       "QUEUEING TASKS | :   0%|          | 0/184 [00:00<?, ?it/s]"
      ]
     },
     "metadata": {},
     "output_type": "display_data"
    },
    {
     "data": {
      "application/vnd.jupyter.widget-view+json": {
       "model_id": "388d5abca232437a8d317267ba9fd0e2",
       "version_major": 2,
       "version_minor": 0
      },
      "text/plain": [
       "PROCESSING TASKS | :   0%|          | 0/184 [00:00<?, ?it/s]"
      ]
     },
     "metadata": {},
     "output_type": "display_data"
    },
    {
     "data": {
      "application/vnd.jupyter.widget-view+json": {
       "model_id": "e68d1070335a4c578793b71e9c3dc9c2",
       "version_major": 2,
       "version_minor": 0
      },
      "text/plain": [
       "COLLECTING RESULTS | :   0%|          | 0/184 [00:00<?, ?it/s]"
      ]
     },
     "metadata": {},
     "output_type": "display_data"
    },
    {
     "name": "stdout",
     "output_type": "stream",
     "text": [
      "✅ Downloaded and organized 184 files for MUR-JPL-L4-GLOB-v4.1 into E:\\satdata\\MUR-JPL-L4-GLOB-v4.1_Texas Louisiana Shelf_2009-06-01_2009-11-30\n",
      "\n",
      "🔎 Searching for MUR-JPL-L4-GLOB-v4.1 data in Texas Louisiana Shelf from 2010-06-01 to 2010-11-30\n"
     ]
    },
    {
     "data": {
      "application/vnd.jupyter.widget-view+json": {
       "model_id": "be9c214e8e5e43bf8d8fc918d9a54287",
       "version_major": 2,
       "version_minor": 0
      },
      "text/plain": [
       "QUEUEING TASKS | :   0%|          | 0/184 [00:00<?, ?it/s]"
      ]
     },
     "metadata": {},
     "output_type": "display_data"
    },
    {
     "data": {
      "application/vnd.jupyter.widget-view+json": {
       "model_id": "fd319a3805e14c9d808aa36780bccec5",
       "version_major": 2,
       "version_minor": 0
      },
      "text/plain": [
       "PROCESSING TASKS | :   0%|          | 0/184 [00:00<?, ?it/s]"
      ]
     },
     "metadata": {},
     "output_type": "display_data"
    },
    {
     "data": {
      "application/vnd.jupyter.widget-view+json": {
       "model_id": "94d377a8da3d4425a3d2b3925b7dff59",
       "version_major": 2,
       "version_minor": 0
      },
      "text/plain": [
       "COLLECTING RESULTS | :   0%|          | 0/184 [00:00<?, ?it/s]"
      ]
     },
     "metadata": {},
     "output_type": "display_data"
    },
    {
     "name": "stdout",
     "output_type": "stream",
     "text": [
      "✅ Downloaded and organized 184 files for MUR-JPL-L4-GLOB-v4.1 into E:\\satdata\\MUR-JPL-L4-GLOB-v4.1_Texas Louisiana Shelf_2010-06-01_2010-11-30\n",
      "\n",
      "🔎 Searching for MUR-JPL-L4-GLOB-v4.1 data in Texas Louisiana Shelf from 2011-06-01 to 2011-11-30\n"
     ]
    },
    {
     "data": {
      "application/vnd.jupyter.widget-view+json": {
       "model_id": "7fbd0541dde943029ff676c3c33c6370",
       "version_major": 2,
       "version_minor": 0
      },
      "text/plain": [
       "QUEUEING TASKS | :   0%|          | 0/184 [00:00<?, ?it/s]"
      ]
     },
     "metadata": {},
     "output_type": "display_data"
    },
    {
     "data": {
      "application/vnd.jupyter.widget-view+json": {
       "model_id": "6243a1b93f8a48999054265010726d4b",
       "version_major": 2,
       "version_minor": 0
      },
      "text/plain": [
       "PROCESSING TASKS | :   0%|          | 0/184 [00:00<?, ?it/s]"
      ]
     },
     "metadata": {},
     "output_type": "display_data"
    },
    {
     "data": {
      "application/vnd.jupyter.widget-view+json": {
       "model_id": "28222d55e810454bb28311ca2782c7aa",
       "version_major": 2,
       "version_minor": 0
      },
      "text/plain": [
       "COLLECTING RESULTS | :   0%|          | 0/184 [00:00<?, ?it/s]"
      ]
     },
     "metadata": {},
     "output_type": "display_data"
    },
    {
     "name": "stdout",
     "output_type": "stream",
     "text": [
      "✅ Downloaded and organized 184 files for MUR-JPL-L4-GLOB-v4.1 into E:\\satdata\\MUR-JPL-L4-GLOB-v4.1_Texas Louisiana Shelf_2011-06-01_2011-11-30\n"
     ]
    }
   ],
   "source": [
    "# SST Dataset to use\n",
    "# jplMURSST41anom1day\n",
    "# MUR‑JPL‑L4‑GLOB‑v4.1\n",
    "sst_dataset_short_name = \"MUR-JPL-L4-GLOB-v4.1\"\n",
    "\n",
    "for time_period in time_periods:\n",
    "    for region, coords in regions.items():\n",
    "        print(f\"\\n🔎 Searching for {sst_dataset_short_name} data in {region} from {time_period[0]} to {time_period[1]}\")\n",
    "\n",
    "        results = earthaccess.search_data(\n",
    "            short_name=sst_dataset_short_name,\n",
    "            temporal=time_period,\n",
    "            bounding_box=(\n",
    "                coords[\"lon_min\"],\n",
    "                coords[\"lat_min\"],\n",
    "                coords[\"lon_max\"],\n",
    "                coords[\"lat_max\"]\n",
    "            )\n",
    "        )\n",
    "\n",
    "        if not results:\n",
    "            print(f\"No results for {sst_dataset_short_name} in {region} during {time_period[0]} to {time_period[1]}\")\n",
    "            continue\n",
    "\n",
    "        # Download data to the default cache directory\n",
    "        downloaded_files = earthaccess.download(results)\n",
    "\n",
    "        # Create output directory and move downloaded files\n",
    "        # Differentiate SST output directory\n",
    "        out_dir = base_dir / f\"{sst_dataset_short_name}_{region}_{time_period[0]}_{time_period[1]}\"\n",
    "        out_dir.mkdir(parents=True, exist_ok=True)\n",
    "\n",
    "        for file_path in downloaded_files:\n",
    "            src = Path(file_path)\n",
    "            dest = out_dir / src.name\n",
    "            shutil.move(str(src), str(dest))  # Move file from cache to output directory\n",
    "\n",
    "        print(f\"✅ Downloaded and organized {len(downloaded_files)} files for {sst_dataset_short_name} into {out_dir}\")"
   ]
  }
 ],
 "metadata": {
  "kernelspec": {
   "display_name": "base",
   "language": "python",
   "name": "python3"
  },
  "language_info": {
   "codemirror_mode": {
    "name": "ipython",
    "version": 3
   },
   "file_extension": ".py",
   "mimetype": "text/x-python",
   "name": "python",
   "nbconvert_exporter": "python",
   "pygments_lexer": "ipython3",
   "version": "3.12.4"
  }
 },
 "nbformat": 4,
 "nbformat_minor": 5
}
