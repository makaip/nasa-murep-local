{
 "cells": [
  {
   "cell_type": "code",
   "execution_count": null,
   "id": "0d94ec14",
   "metadata": {},
   "outputs": [],
   "source": [
    "import pandas as pd\n",
    "import numpy as np\n",
    "import matplotlib.pyplot as plt\n",
    "import seaborn as sns\n",
    "from scipy.stats import sem"
   ]
  },
  {
   "cell_type": "code",
   "execution_count": null,
   "id": "59fda48f",
   "metadata": {},
   "outputs": [],
   "source": [
    "import importlib\n",
    "import load  # your module\n",
    "importlib.reload(load)\n",
    "\n",
    "from load import load_cdom_412nm_data"
   ]
  },
  {
   "cell_type": "code",
   "execution_count": null,
   "id": "db9f766d",
   "metadata": {},
   "outputs": [],
   "source": [
    "full_data = load_cdom_412nm_data()\n",
    "full_data"
   ]
  },
  {
   "cell_type": "code",
   "execution_count": null,
   "id": "bd713062",
   "metadata": {},
   "outputs": [],
   "source": [
    "full_data['Date'] = pd.to_datetime(full_data['Date'], errors='coerce')\n",
    "full_data['Month'] = full_data['Date'].dt.month\n",
    "\n",
    "def assign_season(month):\n",
    "    if month in [3, 4, 5]:\n",
    "        return 'Spring'\n",
    "    elif month in [6, 7, 8]:\n",
    "        return 'Summer'\n",
    "    elif month in [9, 10, 11]:\n",
    "        return 'Fall'\n",
    "    else:\n",
    "        return 'Other'\n",
    "\n",
    "full_data['Season'] = full_data['Month'].apply(assign_season)\n"
   ]
  },
  {
   "cell_type": "code",
   "execution_count": null,
   "id": "b51e3871",
   "metadata": {},
   "outputs": [],
   "source": [
    "season_stats = full_data.groupby('Season')['value'].agg(\n",
    "    mean='mean',\n",
    "    stderr=sem,\n",
    "    count='count',\n",
    "    q25=lambda x: x.quantile(0.25),\n",
    "    q75=lambda x: x.quantile(0.75)\n",
    ").reset_index()\n",
    "\n",
    "print(season_stats)\n"
   ]
  },
  {
   "cell_type": "code",
   "execution_count": null,
   "id": "89238e43",
   "metadata": {},
   "outputs": [],
   "source": [
    "\n",
    "# Only include defined seasons\n",
    "plot_data = full_data[full_data['Season'].isin(['Spring', 'Summer', 'Fall'])]\n",
    "\n",
    "plt.figure(figsize=(8, 6))\n",
    "sns.boxplot(x='Season', y='value', data=plot_data, palette='Set2')\n",
    "plt.title('CDOM at ~412nm by Season')\n",
    "plt.ylabel('Absorbance Value')\n",
    "plt.xlabel('Season')\n",
    "plt.ylim(-2, 2)\n",
    "plt.grid(True, linestyle='--', alpha=0.5)\n",
    "plt.tight_layout()\n",
    "plt.show()\n"
   ]
  },
  {
   "cell_type": "code",
   "execution_count": null,
   "id": "266ee680",
   "metadata": {},
   "outputs": [],
   "source": [
    "import cartopy.crs as ccrs\n",
    "import cartopy.feature as cfeature\n",
    "import cmocean\n",
    "\n",
    "# Assuming 'lon' and 'lat' columns exist in full_data\n",
    "# Filter data to include only the seasons of interest and valid lat/lon\n",
    "plot_data = full_data[full_data['Season'].isin(['Spring', 'Summer', 'Fall'])].dropna(subset=['Lat', 'Lon'])\n",
    "\n",
    "seasons = ['Spring', 'Summer', 'Fall']\n",
    "fig, axes = plt.subplots(1, 3, figsize=(24, 6), subplot_kw={'projection': ccrs.PlateCarree()})\n",
    "\n",
    "# Find global min and max for consistent color scale\n",
    "vmin = -2\n",
    "vmax = 2\n",
    "\n",
    "for i, season in enumerate(seasons):\n",
    "    ax = axes[i]\n",
    "    season_data = plot_data[plot_data['Season'] == season]\n",
    "    \n",
    "    ax.set_extent([-94, -88, 27.5, 30.5], crs=ccrs.PlateCarree())\n",
    "    \n",
    "    # Add map features\n",
    "    ax.add_feature(cfeature.LAND, zorder=1, edgecolor='black')\n",
    "    ax.add_feature(cfeature.OCEAN)\n",
    "    ax.add_feature(cfeature.COASTLINE)\n",
    "    ax.add_feature(cfeature.BORDERS, linestyle=':')\n",
    "    ax.gridlines(draw_labels=True, dms=True, x_inline=False, y_inline=False)\n",
    "\n",
    "    # Scatter plot\n",
    "    if not season_data.empty:\n",
    "        scatter = ax.scatter(season_data['Lon'], season_data['Lat'],\n",
    "                             c=season_data['value'],\n",
    "                             cmap=cmocean.cm.matter,\n",
    "                             vmin=vmin, vmax=vmax,\n",
    "                             transform=ccrs.PlateCarree(),\n",
    "                             zorder=2)\n",
    "    \n",
    "    ax.set_title(f'CDOM at ~412nm - {season}')\n",
    "\n",
    "# Add a single colorbar for all subplots\n",
    "fig.colorbar(scatter, ax=axes, orientation='horizontal', label='Absorbance Value', pad=0.1, aspect=40)\n",
    "\n",
    "plt.suptitle('CDOM Recordings by Season in the Gulf of Mexico', fontsize=16, y=0.95)\n",
    "plt.show()"
   ]
  }
 ],
 "metadata": {
  "kernelspec": {
   "display_name": "base",
   "language": "python",
   "name": "python3"
  },
  "language_info": {
   "codemirror_mode": {
    "name": "ipython",
    "version": 3
   },
   "file_extension": ".py",
   "mimetype": "text/x-python",
   "name": "python",
   "nbconvert_exporter": "python",
   "pygments_lexer": "ipython3",
   "version": "3.12.4"
  }
 },
 "nbformat": 4,
 "nbformat_minor": 5
}
